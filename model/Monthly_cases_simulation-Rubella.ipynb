{
 "cells": [
  {
   "cell_type": "code",
   "execution_count": 1,
   "metadata": {},
   "outputs": [],
   "source": [
    "import model as m \n",
    "import numpy as np\n",
    "import matplotlib.pyplot as plt\n",
    "\n",
    "import pandas as pd\n",
    "import scipy\n",
    "import math"
   ]
  },
  {
   "cell_type": "code",
   "execution_count": 2,
   "metadata": {},
   "outputs": [
    {
     "name": "stdout",
     "output_type": "stream",
     "text": [
      "2007\n",
      "2018\n",
      "12 --> tmax\n"
     ]
    }
   ],
   "source": [
    "age_class = [\"<1\", \"1-4\", \"5-9\", \"10-14\", \"15-19\", \"20-29\", \"30+\"]\n",
    "#Select disease\n",
    "d = \"Rubella\"\n",
    "\n",
    "#monthly data\n",
    "data = pd.read_csv( d +'_data_processed.csv')\n",
    "monthly_data = data.iloc[:,1:8]\n",
    "monthly_data = monthly_data[age_class]\n",
    "\n",
    "#I do not consider 2019\n",
    "monthly_data = monthly_data.iloc[0:(data.shape[0]-12),:]\n",
    "\n",
    "time_date = data[\"Time\"][0:(data.shape[0]-12)]\n",
    "\n",
    "if d== \"Mumps\":\n",
    "    years_run = int(time_date[len(time_date)-1]) - int(time_date[0]) +1\n",
    "    start_yr = int(time_date[0])\n",
    "    end_yr = int(time_date[len(time_date)-1])\n",
    "     \n",
    "else:\n",
    "    start_yr = int(time_date[0][0:4])\n",
    "    end_yr = int(time_date[len(time_date)-1][0:4])\n",
    "    years_run = int(time_date[len(time_date)-1][0:4]) - int(time_date[0][0:4]) +1\n",
    "\n",
    "print(start_yr)\n",
    "print(end_yr)\n",
    "print(years_run, \"--> tmax\")"
   ]
  },
  {
   "cell_type": "markdown",
   "metadata": {},
   "source": [
    "### Extracting birth and death rates for age groups:\n",
    "\n",
    "* Death rates: *death_rate_7_age_groups_1982-2018.csv*: \n",
    "$$ d_i = \\frac{\\text{number of death people who are in i-th age group}}{\\text{population in i-th age group}}$$\n",
    "* Births: *Crude_birth_rate_1938-2018.csv*, unit is birth number per 1000 population\n",
    "* Population: *population_7_age_groups_1982-2018.csv*"
   ]
  },
  {
   "cell_type": "code",
   "execution_count": 3,
   "metadata": {},
   "outputs": [],
   "source": [
    "##### Births\n",
    "Births = pd.read_csv(\"Data//Crude_birth_rate_1938-2018.csv\")\n",
    "\n",
    "#Select from year 1999 to 2018\n",
    "if d == \"Mumps\":\n",
    "    Births_years = Births.iloc[0:(end_yr-start_yr+1),:]\n",
    "else:\n",
    "    Births_years = Births.iloc[0:(end_yr-start_yr+1),:]\n",
    "\n",
    "#Selecting 3rd column for UK data\n",
    "Births_years_UK = Births_years.iloc[:,2] \n",
    "\n",
    "Births_UK =  Births_years_UK.to_numpy()\n",
    "#We shall reverse the order to go from 1999 to 2018\n",
    "\n",
    "Births_UK = np.asarray(list(reversed(Births_UK)))/1000 # Normalise to per capita\n",
    "#### Deaths\n",
    "Deaths = pd.read_csv(\"Data//death_rate_7_age_groups_1982-2018.csv\")\n",
    "\n",
    "#exclude last row (no total)\n",
    "Deaths = Deaths.iloc[0:7,:]\n",
    "\n",
    "#Selecting columns for years 1999-2018\n",
    "\n",
    "Deaths_years = Deaths.iloc[:,np.where(Deaths.columns== str(start_yr))[0][0]:np.where(Deaths.columns==str(end_yr))[0][0]+1]\n",
    "\n",
    "#### Population\n",
    "Pops = pd.read_csv(\"Data//population_7_age_groups_1982-2018.csv\")\n",
    "\n",
    "#Just need last row\n",
    "\n",
    "Pops_tot = Pops.iloc[7,np.where(Deaths.columns==str(start_yr))[0][0]:np.where(Deaths.columns==str(end_yr))[0][0]+1]\n",
    "\n",
    "#print(Pops_tot)\n",
    "\n",
    "Pops_tot = np.asarray(Pops_tot)"
   ]
  },
  {
   "cell_type": "markdown",
   "metadata": {},
   "source": [
    "##### Including real contact matrix from Polymod\n",
    "\n",
    "- equally weighted one"
   ]
  },
  {
   "cell_type": "code",
   "execution_count": 4,
   "metadata": {},
   "outputs": [],
   "source": [
    "Poly_7_new = pd.read_csv(\"Data/Poly_7.csv\")\n",
    "Poly_7_new = Poly_7_new.iloc[:,1:8]\n",
    "Poly_7_new = Poly_7_new.iloc[np.hstack([6, np.arange(0,6)]),:]\n",
    "C_poly = Poly_7_new.values"
   ]
  },
  {
   "cell_type": "markdown",
   "metadata": {},
   "source": [
    "#### Vaccine coverage and Vaccinated IC"
   ]
  },
  {
   "cell_type": "code",
   "execution_count": 5,
   "metadata": {},
   "outputs": [],
   "source": [
    "Cov_rate = pd.read_csv(\"Data//\" +d +'_vaccine_coverage.csv')\n",
    "V_ic = Cov_rate.iloc[0:7,1:2]\n",
    "V_ic = V_ic.to_numpy().reshape((7,))/100\n",
    "Cov_rate_years = Cov_rate.iloc[0:7,2:21]\n",
    "\n",
    "# Issue: vaccination rate is up until 2016, now assume 2017-19 are the same?\n",
    "Cov_rate_years[\"2017\"] = Cov_rate_years[\"2018\"]  = Cov_rate_years[\"2016\"]\n",
    "\n",
    "Cov_rate_years = Cov_rate_years.iloc[:,np.where(Cov_rate_years.columns== str(start_yr))[0][0]:np.where(Cov_rate_years.columns==str(end_yr))[0][0]+1]\n",
    "Shift_cov_rate_years = Cov_rate_years.iloc[np.hstack([6, np.arange(0,6)]),:]"
   ]
  },
  {
   "cell_type": "code",
   "execution_count": 6,
   "metadata": {},
   "outputs": [
    {
     "name": "stdout",
     "output_type": "stream",
     "text": [
      "[[ 0.    0.    0.    0.    0.    0.    0.    0.    0.    0.    0.    0.  ]\n",
      " [77.4  81.55 83.8  85.8  87.65 88.35 88.4  88.   87.6  87.4  87.4  87.4 ]\n",
      " [ 0.    0.    0.    0.    0.    0.    0.    0.    0.    0.    0.    0.  ]\n",
      " [ 0.    0.    0.    0.    0.    0.    0.    0.    0.    0.    0.    0.  ]\n",
      " [ 0.    0.    0.    0.    0.    0.    0.    0.    0.    0.    0.    0.  ]\n",
      " [ 0.    0.    0.    0.    0.    0.    0.    0.    0.    0.    0.    0.  ]\n",
      " [ 0.    0.    0.    0.    0.    0.    0.    0.    0.    0.    0.    0.  ]]\n"
     ]
    }
   ],
   "source": [
    "Shift_cov_rate_years_NEW = np.full(Shift_cov_rate_years.shape, 0, dtype = np.float32)\n",
    "Shift_cov_rate_years_NEW[1,:] = Cov_rate_years.to_numpy()[1,:]\n",
    "print(Shift_cov_rate_years_NEW)"
   ]
  },
  {
   "cell_type": "code",
   "execution_count": 7,
   "metadata": {},
   "outputs": [],
   "source": [
    "from multiprocessing import Process, Array\n",
    "\n",
    "def get_yearly_rates(Y_N, eval_per_year, n_years):\n",
    "        return np.diff(Y_N[:,np.linspace(0, (eval_per_year-1)*n_years, n_years, dtype=np.int32)])\n",
    "\n",
    "def get_monthly_rates(Y_N, eval_per_year, n_years):\n",
    "        return np.diff(Y_N[:,np.linspace(0, (eval_per_year-1)*n_years, 12*n_years, dtype=np.int32)])\n",
    "                       \n",
    "def f_ssq(beta_vec):\n",
    "    n_eval=120\n",
    "    beta = np.eye(7)*np.maximum(beta_vec,0.001)\n",
    "    mdl = m.SIRVModel(para, lambda t: beta)\n",
    "    \n",
    "    ic = estimate_SIR_IC(mdl, age_struct_start, pop_scale, V_ic)    \n",
    "    \n",
    "    if d == \"Mumps\":\n",
    "        out, t, out_YN = mdl.run(ic ,t_max = years_run-0.0001,method=\"RK45\", eval_per_year=n_eval, pop_scale=pop_scale, atol =1e-6, rtol = 1e-3)\n",
    "        new_inf = get_yearly_rates(out_YN, n_eval, years_run)\n",
    "    else:\n",
    "        out, t, out_YN = mdl.run(ic ,t_max = years_run-0.0001,method=\"RK45\", eval_per_year=n_eval, pop_scale=pop_scale, atol =1e-6, rtol = 1e-3)\n",
    "        new_inf = get_monthly_rates(out_YN, n_eval, years_run)\n",
    "    \n",
    "    ssq = np.sum(np.sum((new_inf*((1/pop_scale)*1e5)-np.reshape(monthly_data[age_class].to_numpy()[0:-1], (7,-1)))**2))\n",
    "    print(\"Loss: \"+str(ssq)+\" Beta: \"+str(beta_vec))\n",
    "    return ssq\n",
    "\n",
    "def f_ssq_wrapper(beta_vec, ret):\n",
    "    ret[0] = f_ssq(beta_vec)\n",
    "\n",
    "def f_ssq_timeout(beta_vec):\n",
    "    val = Array('d',1)\n",
    "    p = Process(target=f_ssq_wrapper, args = (beta_vec,val,))\n",
    "    p.start()\n",
    "    p.join(20)\n",
    "    if p.is_alive():\n",
    "        print(\"Maximum computation time exceeded\")\n",
    "        p.terminate()\n",
    "        p.join()\n",
    "        return 1e100\n",
    "    else:\n",
    "        return val[0]"
   ]
  },
  {
   "cell_type": "markdown",
   "metadata": {},
   "source": [
    "Each age group IC is weighted by their percetange at first year pop"
   ]
  },
  {
   "cell_type": "code",
   "execution_count": 8,
   "metadata": {},
   "outputs": [],
   "source": [
    "def estimate_SIR_IC(mdl, age_struct, pop_scale, V_ic, eps_I = 1e-6, k=7):\n",
    "    ###Start with a population where anyone who isnt vaccinated is susceptible \n",
    "    #(+eps_I level of infections))\n",
    "    S_ic = (np.ones(k)-V_ic)*(1-eps_I)\n",
    "    I_ic = (np.ones(k)-V_ic-S_ic)*[1,1,1,1,1,1,1]\n",
    "    R_ic = (np.ones(k) - S_ic - I_ic - V_ic)\n",
    "    \n",
    "    #Normalise profile\n",
    "    norm_ic = np.hstack([S_ic*age_struct_start,  \n",
    "                    I_ic*age_struct_start,\n",
    "                    R_ic*age_struct_start,\n",
    "                    V_ic*age_struct_start])*pop_scale\n",
    "    \n",
    "    ### Run for a year\n",
    "    out, t, out_YN = mdl.run(norm_ic, \n",
    "                             t_max = 1.0,\n",
    "                             method=\"RK45\",\n",
    "                             eval_per_year=120,\n",
    "                             pop_scale=pop_scale, atol=1e-3, rtol=1e-4)\n",
    "    \n",
    "    ### Note this only works for sensible betas and gammas \n",
    "    ###(i.e. assumes epidemic over in a year)\n",
    "    level_estimate = out[:, -1]\n",
    "    \n",
    "    S_level = level_estimate[0:k]\n",
    "    I_level = level_estimate[k:2*k]\n",
    "    R_level = level_estimate[2*k:3*k]\n",
    "    \n",
    "    S_const = S_level/(S_level+I_level+R_level)\n",
    "    I_const = I_level/(I_level+R_level)\n",
    "    \n",
    "    S_ic_est = (np.ones(k)-V_ic)*S_const\n",
    "    I_ic_est = (np.ones(k)-V_ic-S_ic_est)*I_const\n",
    "    R_ic_est = (np.ones(k)-V_ic-S_ic_est-I_ic_est)\n",
    "    \n",
    "    estimated_IC = np.hstack([S_ic_est*age_struct_start,\n",
    "                              I_ic_est*age_struct_start,\n",
    "                              R_ic_est*age_struct_start,\n",
    "                              V_ic*age_struct_start])*1000\n",
    "        \n",
    "    return(estimated_IC)    "
   ]
  },
  {
   "cell_type": "code",
   "execution_count": 9,
   "metadata": {},
   "outputs": [],
   "source": [
    "#Prepare Model Parameters\n",
    "pop_scale = 100000 #Set scale to cases per 1000 \n",
    "age_struct_start = np.asarray(Pops[str(start_yr)][0:7]/np.sum(Pops[str(start_yr)][0:7]))\n",
    "\n",
    "para = m.ModelParams(\n",
    "    age_strucure=[0,1, 5, 10, 15, 20, 30],  #age cuts\n",
    "    B= lambda t: (Births_UK*pop_scale)[int(np.floor(t))],  #births rate per 1000\n",
    "    V=lambda t: (Shift_cov_rate_years_NEW/100.0)[:, (int(np.floor(t))-1)],\n",
    "    d=lambda t: Deaths_years.to_numpy()[:, int(np.floor(t))],  #death rate per capita\n",
    "    gamma=(1/7*365.0)*np.ones([7]),\n",
    "    C=C_poly*365,\n",
    "    N=pop_scale\n",
    ")\n"
   ]
  },
  {
   "cell_type": "markdown",
   "metadata": {},
   "source": [
    "### Setting correct recovery rate\n",
    "\n",
    "* Measles: recovery period of 7 - 10 days\n",
    "* Mumps: 1 to 2 weeks\n",
    "* Rubella: 3 days "
   ]
  },
  {
   "cell_type": "code",
   "execution_count": 10,
   "metadata": {},
   "outputs": [],
   "source": [
    "if d == \"Measles\":\n",
    "    para.gamma = (1/8.5 *365.0)*np.ones([7]) #I compute the average\n",
    "elif d == \"Mumps\":\n",
    "    para.gamma = (1/10.5 *365.0)*np.ones([7])\n",
    "elif d == \"Rubella\":\n",
    "    para.gamma = (1/3 *365.0)*np.ones([7])"
   ]
  },
  {
   "cell_type": "code",
   "execution_count": null,
   "metadata": {},
   "outputs": [
    {
     "name": "stderr",
     "output_type": "stream",
     "text": [
      "/home/dhelekal/anaconda3/envs/nb/lib/python3.8/site-packages/scipy/integrate/_ivp/common.py:338: RuntimeWarning: overflow encountered in multiply\n",
      "  h_new = (y[ind] + new_factor * y_scale[ind]) - y[ind]\n",
      "/home/dhelekal/anaconda3/envs/nb/lib/python3.8/site-packages/scipy/integrate/_ivp/common.py:307: RuntimeWarning: overflow encountered in multiply\n",
      "  h = (y + factor * y_scale) - y\n",
      "/home/dhelekal/anaconda3/envs/nb/lib/python3.8/site-packages/scipy/integrate/_ivp/common.py:337: RuntimeWarning: overflow encountered in multiply\n",
      "  new_factor = NUM_JAC_FACTOR_INCREASE * factor[ind]\n",
      "/home/dhelekal/anaconda3/envs/nb/lib/python3.8/site-packages/scipy/integrate/_ivp/common.py:359: RuntimeWarning: overflow encountered in multiply\n",
      "  factor[max_diff < NUM_JAC_DIFF_SMALL * scale] *= NUM_JAC_FACTOR_INCREASE\n"
     ]
    }
   ],
   "source": [
    "beta = np.eye(7)*30#*fit_Rubella[0]\n",
    "\n",
    "mdl = m.SIRVModel(para, lambda t: beta)\n",
    "ic = estimate_SIR_IC(mdl, age_struct_start, pop_scale, V_ic)\n",
    "\n",
    "eval_year = 120\n",
    "out, t, out_YN = mdl.run(ic ,t_max = years_run-0.00001, method=\"Radau\", eval_per_year=eval_year, pop_scale=pop_scale, \n",
    "                         atol=1e-6, rtol = 1e-4)\n",
    "\"\"\"\"\"\n",
    "Inf_OUT = out[7:(7*2),:]\n",
    "plt.figure(figsize=(16,9))\n",
    "for ii in range(7):\n",
    "    plt.plot(t[0:len(t)], np.transpose(out[7+ii,0:len(t)]), label = age_class[ii])\n",
    "plt.legend()\n",
    "plt.title(\"Infected curve for all age groups (unnormalized)\", fontsize = 18)\n",
    "\"\"\"\n",
    "\n",
    "plt.figure(figsize=(16,9))\n",
    "for ii in range(7):\n",
    "    plt.plot(np.linspace(0,years_run, years_run*12)[0:-1], \n",
    "             (1e5/pop_scale)*np.transpose(get_monthly_rates(out_YN, eval_year, years_run)[ii,:]), label = age_class[ii])\n",
    "\n",
    "locs, labels = plt.xticks()\n",
    "locs = np.hstack([locs[1:-2], 19.5])\n",
    "plt.xticks(locs, time_date[locs*12])\n",
    "plt.legend()\n",
    "plt.title(\"Monthly infections per 100K\", fontsize = 18)\n"
   ]
  },
  {
   "cell_type": "code",
   "execution_count": null,
   "metadata": {},
   "outputs": [],
   "source": [
    "plt.figure(figsize=(16,9))\n",
    "for ii in range(7):\n",
    "    plt.plot(np.linspace(0,years_run, years_run*12)[0:-1], \n",
    "             (1e5/pop_scale)*np.transpose(get_monthly_rates(out_YN, eval_year, years_run)[ii,:]), label = age_class[ii])\n",
    "\n",
    "locs, labels = plt.xticks()\n",
    "locs = np.hstack([locs[1:-2], 19.5])\n",
    "plt.xticks(locs, time_date[locs*12])\n",
    "plt.legend()\n",
    "plt.title(\"Monthly infections per 100K\", fontsize = 18)\n"
   ]
  },
  {
   "cell_type": "code",
   "execution_count": null,
   "metadata": {},
   "outputs": [],
   "source": [
    "for d in ['Rubella']:\n",
    "#for d in ['Measles']:\n",
    "    #option for dotted in Mumps\n",
    "    if d == \"Mumps\":\n",
    "        fig = plt.figure(figsize=(16,9))\n",
    "        for cc in age_class:\n",
    "            plt.plot(time_date, monthly_data[cc], \"-o\", markersize = 7, lw = 2.5, label= cc)\n",
    "        plt.xticks(fontsize = 18)\n",
    "        plt.yticks(fontsize = 18)\n",
    "    else:\n",
    "        fig = plt.figure(figsize=(16,9))\n",
    "        for cc in age_class:\n",
    "            plt.plot(time_date, monthly_data[cc], lw = 2.5, label= cc)\n",
    "        step_loc = math.floor(len(My_Time)/8)\n",
    "        locs = np.arange(0, 9) * step_loc\n",
    "\n",
    "        plt.yticks(fontsize = 18)\n",
    "        plt.xticks(locs, My_Time.loc[locs][0], fontsize = 18)\n",
    "            \n",
    "    plt.xlabel(\"Time\", fontsize=18)\n",
    "    plt.legend(shadow= True, fontsize = 19)\n",
    "    plt.title(d+\" Cases Per 100k\", fontsize = 20)\n",
    "    #svg better for Poster\n",
    "    \n",
    "    #plt.savefig(d+\"Plot.svg\")\n",
    "    #plt.figure(figsize=(16,9))\n",
    "    for ii in range(7):\n",
    "        plt.plot(time_date[0:len(time_date)-1], \n",
    "                 (1e5/pop_scale)*np.transpose(get_monthly_rates(out_YN, eval_year, years_run)[ii,:]), label = age_class[ii])\n",
    "    plt.legend()\n",
    "    #plt.title(\"Monthly infections per 100K\", fontsize = 18)\n"
   ]
  },
  {
   "cell_type": "markdown",
   "metadata": {},
   "source": [
    "## Plotting the scaled infected by normalising pop"
   ]
  },
  {
   "cell_type": "code",
   "execution_count": null,
   "metadata": {
    "scrolled": true
   },
   "outputs": [],
   "source": [
    "Inf_OUT = out[7:(7*2),:]\n",
    "plt.figure(figsize=(16,9))\n",
    "for ii in range(7):\n",
    "    tot = np.sum(out[np.array([0,7,14,21])+ii,], axis=0)\n",
    "    plt.plot(t[0:len(t)], (np.transpose(out[7+ii,]) / tot)[0:len(t)]*100, label = age_class[ii])\n",
    "plt.legend()\n",
    "if d == \"Mumps\":\n",
    "    plt.xticks(t[0:len(t)][np.arange(years_run)*eval_year], time_date)\n",
    "else:\n",
    "    plt.xticks(t[0:len(t)][np.arange(years_run)*eval_year], time_date[np.arange(1, years_run)*12])\n",
    "\n",
    "plt.title(\"Infected curve for all age groups (normalized per 100k)\", fontsize = 18)\n",
    "\n",
    "if d == \"Mumps\":\n",
    "    plt.savefig(\"Inf_sim_\"+d+\"_noOpt.svg\")"
   ]
  },
  {
   "cell_type": "code",
   "execution_count": null,
   "metadata": {
    "scrolled": false
   },
   "outputs": [],
   "source": [
    "fit_Rubella =  scipy.optimize.fmin(f_ssq_timeout, x0 = np.array(np.ones(7))*10, xtol=1e-3,maxiter = 2000, maxfun = 2000, full_output=1)"
   ]
  },
  {
   "cell_type": "code",
   "execution_count": null,
   "metadata": {},
   "outputs": [],
   "source": [
    "beta = np.eye(7)*fit_Rubella[0]\n",
    "\n",
    "mdl = m.SIRVModel(para, lambda t: beta)\n",
    "ic = estimate_SIR_IC(mdl, age_struct_start, pop_scale, V_ic)\n",
    "\n",
    "eval_year = 120\n",
    "out, t, out_YN = mdl.run(ic ,t_max = years_run-0.00001, method=\"RK45\", eval_per_year=eval_year, pop_scale=pop_scale, \n",
    "                         atol=1e-6, rtol = 1e-4)\n",
    "\n",
    "plt.figure(figsize=(16,9))\n",
    "for ii in range(7):\n",
    "    plt.plot(np.linspace(0,years_run, years_run*12)[0:-1], \n",
    "             (1e5/pop_scale)*np.transpose(get_monthly_rates(out_YN, eval_year, years_run)[ii,:]), label = age_class[ii])\n",
    "\n",
    "locs, labels = plt.xticks()\n",
    "locs = np.hstack([locs[1:-2], 19.5])\n",
    "plt.xticks(locs, time_date[locs*12])\n",
    "plt.legend()\n",
    "plt.title(\"Monthly infections per 100K\", fontsize = 18)"
   ]
  },
  {
   "cell_type": "code",
   "execution_count": null,
   "metadata": {},
   "outputs": [],
   "source": [
    "np.maximum(fit_Rubella[0],0.001)"
   ]
  },
  {
   "cell_type": "code",
   "execution_count": null,
   "metadata": {},
   "outputs": [],
   "source": [
    "n_eval=120\n",
    "beta = np.eye(7)*np.maximum(fit_Rubella[0],0.001)\n",
    "mdl = m.SIRVModel(para, lambda t: beta)  \n",
    "ic = estimate_SIR_IC(mdl, age_struct_start, pop_scale, V_ic)   "
   ]
  },
  {
   "cell_type": "code",
   "execution_count": null,
   "metadata": {},
   "outputs": [],
   "source": [
    "out, t, out_YN = mdl.run(ic ,t_max = years_run-0.0001,method=\"RK45\", eval_per_year=n_eval, atol =1e-6, rtol = 1e-3)"
   ]
  },
  {
   "cell_type": "code",
   "execution_count": null,
   "metadata": {},
   "outputs": [],
   "source": [
    "plt.figure(figsize=(16,9))\n",
    "for ii in range(7):\n",
    "    plt.plot(np.linspace(0,years_run, years_run*12)[0:-1], \n",
    "             (1e5/pop_scale)*np.transpose(get_monthly_rates(out_YN, eval_year, years_run)[ii,:]), label = age_class[ii])"
   ]
  },
  {
   "cell_type": "code",
   "execution_count": null,
   "metadata": {},
   "outputs": [],
   "source": [
    "fit_Rubella[0]"
   ]
  },
  {
   "cell_type": "code",
   "execution_count": null,
   "metadata": {},
   "outputs": [],
   "source": []
  }
 ],
 "metadata": {
  "kernelspec": {
   "display_name": "Python 3",
   "language": "python",
   "name": "python3"
  },
  "language_info": {
   "codemirror_mode": {
    "name": "ipython",
    "version": 3
   },
   "file_extension": ".py",
   "mimetype": "text/x-python",
   "name": "python",
   "nbconvert_exporter": "python",
   "pygments_lexer": "ipython3",
   "version": "3.8.2"
  }
 },
 "nbformat": 4,
 "nbformat_minor": 4
}
