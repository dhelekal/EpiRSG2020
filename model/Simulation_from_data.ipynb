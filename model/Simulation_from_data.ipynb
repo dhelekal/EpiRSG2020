{
 "cells": [
  {
   "cell_type": "code",
   "execution_count": 1,
   "metadata": {},
   "outputs": [],
   "source": [
    "import model as m \n",
    "import numpy as np\n",
    "import matplotlib.pyplot as plt\n",
    "\n",
    "import pandas as pd"
   ]
  },
  {
   "cell_type": "code",
   "execution_count": 2,
   "metadata": {},
   "outputs": [],
   "source": [
    "age_class = [\"<1\", \"1-4\", \"5-9\", \"10-14\", \"15-19\", \"20-29\", \"30+\"]"
   ]
  },
  {
   "cell_type": "code",
   "execution_count": 3,
   "metadata": {},
   "outputs": [],
   "source": [
    "#Select disease\n",
    "d = \"Measles\"\n",
    "\n",
    "#monthly data\n",
    "monthly_data = pd.read_csv( d +'_data_processed.csv')\n",
    "time_date = monthly_data.iloc[:,0]\n",
    "\n",
    "#cumulative monthly data\n",
    "ecdc_disease_noTime = monthly_data.drop(\"Time\", axis=1)\n",
    "cumulative_data = ecdc_disease_noTime.apply(lambda x: np.cumsum(x))"
   ]
  },
  {
   "cell_type": "code",
   "execution_count": 4,
   "metadata": {},
   "outputs": [
    {
     "name": "stdout",
     "output_type": "stream",
     "text": [
      "1999-01\n",
      "2019-12\n",
      "21 --> tmax\n"
     ]
    }
   ],
   "source": [
    "print(time_date[0])\n",
    "print(time_date[len(time_date)-1])\n",
    "\n",
    "years_run = int(time_date[len(time_date)-1][0:4]) - int(time_date[0][0:4]) +1\n",
    "\n",
    "\n",
    "print(years_run, \"--> tmax\")\n"
   ]
  },
  {
   "cell_type": "markdown",
   "metadata": {},
   "source": [
    "### Extracting birth and death rates for age groups:\n",
    "\n",
    "* Death rates: *death_rate_7_age_groups_1982-2018.csv*: \n",
    "$$ d_i = \\frac{\\text{number of death people who are in i-th age group}}{\\text{population in i-th age group}}$$\n",
    "* Births: *Crude_birth_rate_1938-2018.csv*, unit is birth number per 1000 population\n",
    "* Population: *population_7_age_groups_1982-2018.csv*"
   ]
  },
  {
   "cell_type": "code",
   "execution_count": 5,
   "metadata": {},
   "outputs": [
    {
     "name": "stdout",
     "output_type": "stream",
     "text": [
      "[11.9 11.5 11.3 11.3 11.7 11.9 12.  12.3 12.6 12.8 12.7 12.9 12.8 12.8\n",
      " 12.1 12.  11.9 11.8 11.4 11. ]\n"
     ]
    }
   ],
   "source": [
    "##### Births\n",
    "Births = pd.read_csv(\"Data//Crude_birth_rate_1938-2018.csv\")\n",
    "\n",
    "#Select from year 1999 to 2018\n",
    "Births_years = Births.iloc[0:(2018-1999+1),:]\n",
    "\n",
    "#Selecting 3rd column for UK data\n",
    "Births_years_UK = Births_years.iloc[:,2] \n",
    "\n",
    "Births_UK =  Births_years_UK.to_numpy()\n",
    "#We shall reverse the order to go from 1999 to 2018\n",
    "\n",
    "Births_UK = np.asarray(list(reversed(Births_UK)))\n",
    "\n",
    "print(Births_UK)"
   ]
  },
  {
   "cell_type": "code",
   "execution_count": 6,
   "metadata": {},
   "outputs": [
    {
     "name": "stdout",
     "output_type": "stream",
     "text": [
      "       1999      2000      2001      2002      2003      2004      2005  \\\n",
      "0  0.005762  0.005588  0.005570  0.005346  0.005421  0.005194  0.005126   \n",
      "1  0.000278  0.000236  0.000233  0.000239  0.000244  0.000231  0.000218   \n",
      "2  0.000118  0.000117  0.000120  0.000109  0.000111  0.000100  0.000096   \n",
      "3  0.000151  0.000135  0.000146  0.000142  0.000140  0.000124  0.000137   \n",
      "4  0.000434  0.000423  0.000422  0.000408  0.000380  0.000376  0.000377   \n",
      "5  0.000651  0.000653  0.000621  0.000624  0.000603  0.000572  0.000533   \n",
      "6  0.017067  0.016406  0.016096  0.016069  0.016072  0.015269  0.015122   \n",
      "\n",
      "       2006      2007      2008      2009      2010      2011      2012  \\\n",
      "0  0.005091  0.004938  0.004751  0.004698  0.004425  0.004371  0.004102   \n",
      "1  0.000228  0.000227  0.000210  0.000182  0.000182  0.000181  0.000164   \n",
      "2  0.000102  0.000096  0.000107  0.000093  0.000094  0.000083  0.000089   \n",
      "3  0.000131  0.000127  0.000101  0.000108  0.000099  0.000089  0.000095   \n",
      "4  0.000366  0.000351  0.000347  0.000330  0.000288  0.000251  0.000244   \n",
      "5  0.000536  0.000518  0.000526  0.000502  0.000464  0.000437  0.000408   \n",
      "6  0.014747  0.014732  0.014758  0.014128  0.014068  0.013713  0.014030   \n",
      "\n",
      "       2013      2014      2015      2016      2017      2018  \n",
      "0  0.003867  0.003873  0.003888  0.003839  0.003893  0.003799  \n",
      "1  0.000172  0.000157  0.000157  0.000154  0.000137  0.000132  \n",
      "2  0.000078  0.000085  0.000076  0.000069  0.000075  0.000074  \n",
      "3  0.000095  0.000096  0.000090  0.000089  0.000085  0.000091  \n",
      "4  0.000240  0.000248  0.000249  0.000237  0.000238  0.000267  \n",
      "5  0.000403  0.000418  0.000411  0.000435  0.000392  0.000433  \n",
      "6  0.014106  0.013820  0.014483  0.014203  0.014333  0.014412  \n"
     ]
    }
   ],
   "source": [
    "#### Deaths\n",
    "Deaths = pd.read_csv(\"Data//death_rate_7_age_groups_1982-2018.csv\")\n",
    "\n",
    "#exclude last row (no total)\n",
    "Deaths = Deaths.iloc[0:7,:]\n",
    "\n",
    "#Selecting columns for years 1999-2018\n",
    "Deaths_years = Deaths.iloc[:,np.where(Deaths.columns==\"1999\")[0][0]:np.where(Deaths.columns==\"2018\")[0][0]+1]\n",
    "\n",
    "print(Deaths_years)\n",
    "#Deaths_years.iloc[:,0].to_numpy()"
   ]
  },
  {
   "cell_type": "code",
   "execution_count": 7,
   "metadata": {},
   "outputs": [],
   "source": [
    "#### Population\n",
    "Pops = pd.read_csv(\"Data//population_7_age_groups_1982-2018.csv\")\n",
    "\n",
    "#Just need last row\n",
    "\n",
    "Pops_tot = Pops.iloc[7,np.where(Deaths.columns==\"1999\")[0][0]:np.where(Deaths.columns==\"2018\")[0][0]+1]\n",
    "\n",
    "#print(Pops_tot)\n",
    "\n",
    "Pops_tot = np.asarray(Pops_tot)"
   ]
  },
  {
   "cell_type": "markdown",
   "metadata": {},
   "source": [
    "##### Including real contact matrix from Polymod\n",
    "\n",
    "- equally weighted one"
   ]
  },
  {
   "cell_type": "code",
   "execution_count": 8,
   "metadata": {},
   "outputs": [],
   "source": [
    "Poly_7_new = pd.read_csv(\"Data/Poly_7.csv\")\n",
    "Poly_7_new = Poly_7_new.iloc[:,1:8]\n",
    "C_poly = Poly_7_new.values"
   ]
  },
  {
   "cell_type": "code",
   "execution_count": 9,
   "metadata": {},
   "outputs": [
    {
     "data": {
      "text/html": [
       "<div>\n",
       "<style scoped>\n",
       "    .dataframe tbody tr th:only-of-type {\n",
       "        vertical-align: middle;\n",
       "    }\n",
       "\n",
       "    .dataframe tbody tr th {\n",
       "        vertical-align: top;\n",
       "    }\n",
       "\n",
       "    .dataframe thead th {\n",
       "        text-align: right;\n",
       "    }\n",
       "</style>\n",
       "<table border=\"1\" class=\"dataframe\">\n",
       "  <thead>\n",
       "    <tr style=\"text-align: right;\">\n",
       "      <th></th>\n",
       "      <th>&lt;1</th>\n",
       "      <th>1-4</th>\n",
       "      <th>5-9</th>\n",
       "      <th>10-14</th>\n",
       "      <th>15-19</th>\n",
       "      <th>20-29</th>\n",
       "      <th>30+</th>\n",
       "    </tr>\n",
       "  </thead>\n",
       "  <tbody>\n",
       "    <tr>\n",
       "      <th>0</th>\n",
       "      <td>1.49</td>\n",
       "      <td>1.49</td>\n",
       "      <td>0.59</td>\n",
       "      <td>0.25</td>\n",
       "      <td>0.18</td>\n",
       "      <td>0.515</td>\n",
       "      <td>0.301111</td>\n",
       "    </tr>\n",
       "    <tr>\n",
       "      <th>1</th>\n",
       "      <td>0.74</td>\n",
       "      <td>0.74</td>\n",
       "      <td>3.82</td>\n",
       "      <td>0.53</td>\n",
       "      <td>0.44</td>\n",
       "      <td>0.395</td>\n",
       "      <td>0.402222</td>\n",
       "    </tr>\n",
       "    <tr>\n",
       "      <th>2</th>\n",
       "      <td>0.36</td>\n",
       "      <td>0.36</td>\n",
       "      <td>0.73</td>\n",
       "      <td>3.19</td>\n",
       "      <td>0.79</td>\n",
       "      <td>0.155</td>\n",
       "      <td>0.308889</td>\n",
       "    </tr>\n",
       "    <tr>\n",
       "      <th>3</th>\n",
       "      <td>0.26</td>\n",
       "      <td>0.26</td>\n",
       "      <td>0.22</td>\n",
       "      <td>0.52</td>\n",
       "      <td>3.10</td>\n",
       "      <td>0.485</td>\n",
       "      <td>0.285556</td>\n",
       "    </tr>\n",
       "    <tr>\n",
       "      <th>4</th>\n",
       "      <td>0.92</td>\n",
       "      <td>0.92</td>\n",
       "      <td>0.56</td>\n",
       "      <td>0.20</td>\n",
       "      <td>0.58</td>\n",
       "      <td>1.515</td>\n",
       "      <td>0.417778</td>\n",
       "    </tr>\n",
       "    <tr>\n",
       "      <th>5</th>\n",
       "      <td>2.94</td>\n",
       "      <td>2.94</td>\n",
       "      <td>2.84</td>\n",
       "      <td>2.21</td>\n",
       "      <td>1.86</td>\n",
       "      <td>1.975</td>\n",
       "      <td>2.127778</td>\n",
       "    </tr>\n",
       "    <tr>\n",
       "      <th>6</th>\n",
       "      <td>1.49</td>\n",
       "      <td>1.49</td>\n",
       "      <td>0.59</td>\n",
       "      <td>0.25</td>\n",
       "      <td>0.18</td>\n",
       "      <td>0.515</td>\n",
       "      <td>0.301111</td>\n",
       "    </tr>\n",
       "  </tbody>\n",
       "</table>\n",
       "</div>"
      ],
      "text/plain": [
       "     <1   1-4   5-9  10-14  15-19  20-29       30+\n",
       "0  1.49  1.49  0.59   0.25   0.18  0.515  0.301111\n",
       "1  0.74  0.74  3.82   0.53   0.44  0.395  0.402222\n",
       "2  0.36  0.36  0.73   3.19   0.79  0.155  0.308889\n",
       "3  0.26  0.26  0.22   0.52   3.10  0.485  0.285556\n",
       "4  0.92  0.92  0.56   0.20   0.58  1.515  0.417778\n",
       "5  2.94  2.94  2.84   2.21   1.86  1.975  2.127778\n",
       "6  1.49  1.49  0.59   0.25   0.18  0.515  0.301111"
      ]
     },
     "execution_count": 9,
     "metadata": {},
     "output_type": "execute_result"
    }
   ],
   "source": [
    "Poly_7_new"
   ]
  },
  {
   "cell_type": "markdown",
   "metadata": {},
   "source": [
    "#### Vaccine coverage and Vaccinated IC"
   ]
  },
  {
   "cell_type": "code",
   "execution_count": 10,
   "metadata": {},
   "outputs": [],
   "source": [
    "Vacc_rate = pd.read_csv(\"Data//\" +d +'_vaccine_coverage.csv')\n",
    "V_ic = Vacc_rate.iloc[0:7,1:2]\n",
    "V_ic = V_ic.to_numpy().reshape((7,))\n",
    "Vacc_rate_years = Vacc_rate.iloc[0:7,2:21]\n",
    "\n",
    "# Issue: vaccination rate is up until 2016, now assume 2017-19 are the same?\n",
    "Vacc_rate_years[\"2017\"] = Vacc_rate_years[\"2018\"]  = Vacc_rate_years[\"2016\"]\n"
   ]
  },
  {
   "cell_type": "code",
   "execution_count": 11,
   "metadata": {},
   "outputs": [],
   "source": [
    "pop_scale = 1000 ###Set scale to per thousand population to avoid numeric precision issues\n",
    "\n",
    "para = m.ModelParams(\n",
    "    age_strucure=[0,1, 5, 10, 15, 20, 30],  #age cuts\n",
    "    B= lambda t: (Births_UK * 1000/pop_scale)[int(np.floor(t))],  #births rate per capita\n",
    "    V=lambda t: Vacc_rate_years.to_numpy()[:, int(np.floor(t))],\n",
    "    d=lambda t: Deaths_years.to_numpy()[:, int(np.floor(t))],  #death rate\n",
    "    gamma=(1.0/14.0*365.0)*np.ones([7]),\n",
    "    C=C_poly,\n",
    "    N= lambda t: Pops_tot[int(np.floor(t))]/pop_scale\n",
    ")"
   ]
  },
  {
   "cell_type": "code",
   "execution_count": 12,
   "metadata": {},
   "outputs": [],
   "source": [
    "beta = np.eye(7)*[0.98, 0.9, 0.85, 0.8, 0.7, 0.7, 0.7]"
   ]
  },
  {
   "cell_type": "code",
   "execution_count": 13,
   "metadata": {},
   "outputs": [],
   "source": [
    "mdl = m.SIRVModel(para, lambda t: beta)"
   ]
  },
  {
   "cell_type": "code",
   "execution_count": 14,
   "metadata": {},
   "outputs": [],
   "source": [
    "new_ic = np.hstack([0.95*(1./7)*np.ones(2), np.zeros(5), 0.05*(1./7)*np.ones(2), np.zeros(5), np.zeros(7), V_ic])"
   ]
  },
  {
   "cell_type": "code",
   "execution_count": 15,
   "metadata": {},
   "outputs": [],
   "source": [
    "#out_year, t_year = mdl.run(np.hstack([0.95*(1./7)*np.ones(7), 0.05*(1./7)*np.ones(7), np.zeros(7*2)]),t_max = 19,method=\"RK45\", eval_per_year=24)\n",
    "\n",
    "out_year, t_year = mdl.run(new_ic ,t_max = 19,method=\"RK45\", eval_per_year=24)"
   ]
  },
  {
   "cell_type": "code",
   "execution_count": 16,
   "metadata": {},
   "outputs": [],
   "source": [
    "out = out_year\n",
    "t = t_year"
   ]
  },
  {
   "cell_type": "code",
   "execution_count": 17,
   "metadata": {},
   "outputs": [
    {
     "data": {
      "text/plain": [
       "<matplotlib.legend.Legend at 0x7fdf80ac7610>"
      ]
     },
     "execution_count": 17,
<<<<<<< HEAD
     "metadata": {},
     "output_type": "execute_result"
    }
   ],
   "source": [
    "out.shape"
   ]
  },
  {
   "cell_type": "code",
   "execution_count": 18,
   "metadata": {},
   "outputs": [
    {
     "data": {
      "text/plain": [
       "<matplotlib.legend.Legend at 0x7f0b1c845cf8>"
      ]
     },
     "execution_count": 18,
=======
>>>>>>> f723d9951a0a5a4e3761e245aae4a94aa8f5648e
     "metadata": {},
     "output_type": "execute_result"
    },
    {
     "data": {
<<<<<<< HEAD
      "image/png": "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\n",
=======
      "image/png": "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\n",
>>>>>>> f723d9951a0a5a4e3761e245aae4a94aa8f5648e
      "text/plain": [
       "<Figure size 1152x648 with 1 Axes>"
      ]
     },
     "metadata": {
      "needs_background": "light"
     },
     "output_type": "display_data"
    }
   ],
   "source": [
    "out[7:(7*2),:]\n",
    "plt.figure(figsize=(16,9))\n",
    "for ii in range(7):\n",
    "    plt.plot(t, np.transpose(out[7+ii,:]), label = age_class[ii])\n",
    "plt.legend()"
   ]
  },
  {
   "cell_type": "code",
   "execution_count": 18,
   "metadata": {},
   "outputs": [],
   "source": [
    "monthly_out = out[7:(7*2),1::2] "
   ]
  },
  {
   "cell_type": "code",
   "execution_count": 19,
   "metadata": {},
   "outputs": [
    {
     "data": {
      "text/plain": [
       "(7, 228)"
      ]
     },
     "execution_count": 19,
     "metadata": {},
     "output_type": "execute_result"
    }
   ],
   "source": [
    "monthly_out.shape"
   ]
  },
  {
   "cell_type": "code",
   "execution_count": 20,
   "metadata": {},
   "outputs": [
    {
     "data": {
      "image/png": "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\n",
      "text/plain": [
       "<Figure size 1152x648 with 1 Axes>"
      ]
     },
     "metadata": {
      "needs_background": "light"
     },
     "output_type": "display_data"
    }
   ],
   "source": [
    "plt.figure(figsize=(16,9))\n",
    "\n",
    "groups = monthly_out.shape[0]\n",
    "for ii in range(groups):\n",
    "    Inf_group = monthly_out[ii,:]\n",
    "    #monthly data\n",
    "    monthly_infected_sim = np.diff(Inf_group)\n",
    "    \n",
    "    plt.plot(monthly_infected_sim)"
   ]
  },
  {
   "cell_type": "code",
   "execution_count": null,
   "metadata": {},
   "outputs": [],
   "source": []
  }
 ],
 "metadata": {
  "kernelspec": {
   "display_name": "Python 3",
   "language": "python",
   "name": "python3"
  },
  "language_info": {
   "codemirror_mode": {
    "name": "ipython",
    "version": 3
   },
   "file_extension": ".py",
   "mimetype": "text/x-python",
   "name": "python",
   "nbconvert_exporter": "python",
   "pygments_lexer": "ipython3",
   "version": "3.7.3"
  }
 },
 "nbformat": 4,
 "nbformat_minor": 4
}
