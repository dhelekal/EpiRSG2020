{
 "cells": [
  {
   "cell_type": "markdown",
   "metadata": {},
   "source": [
    "#### Squared differences estimation"
   ]
  },
  {
   "cell_type": "markdown",
   "metadata": {},
   "source": [
    "Out is the output of our model and it returns a set of 6 arrays representing the curve of infection for the age groups.\n",
    "\n",
    "Time, t, has its unit step representing a fortnight, thus we will select only the odd entries of the array and compute the first finite differences for each age class to get the number of new cases observed monthly. "
   ]
  },
  {
   "cell_type": "code",
   "execution_count": 1,
   "metadata": {},
   "outputs": [],
   "source": [
    "import pandas as pd\n",
    "import numpy as np"
   ]
  },
  {
   "cell_type": "code",
   "execution_count": 2,
   "metadata": {},
   "outputs": [],
   "source": [
    "age_class = [\"<1\", \"1-4\", \"5-9\", \"10-14\", \"15-19\", \"20-29\", \"30+\"]"
   ]
  },
  {
   "cell_type": "markdown",
   "metadata": {},
   "source": [
    "#### Vector $\\beta$ (= force of infection) to estimate"
   ]
  },
  {
   "cell_type": "code",
   "execution_count": 113,
   "metadata": {},
   "outputs": [],
   "source": [
    "#beta_range = np.arange(3, 15.2, step = 0.2)"
   ]
  },
  {
   "cell_type": "code",
   "execution_count": 1,
   "metadata": {},
   "outputs": [],
   "source": [
    "import itertools\n",
    "#TOO BIG\n",
    "#beta_combinations = list(itertools.product(beta_range, repeat = 6))"
   ]
  },
  {
   "cell_type": "code",
   "execution_count": null,
   "metadata": {},
   "outputs": [],
   "source": [
    "list(beta_range)"
   ]
  },
  {
   "cell_type": "code",
   "execution_count": 66,
   "metadata": {},
   "outputs": [],
   "source": [
    "beta = np.eye(6)*[1, 2, 3, 4, 5, 6]"
   ]
  },
  {
   "cell_type": "code",
   "execution_count": 4,
   "metadata": {},
   "outputs": [],
   "source": [
    "#Select disease\n",
    "d = \"Measles\"\n",
    "\n",
    "#monthly data\n",
    "monthly_data = pd.read_csv( d +'_data_processed.csv')\n",
    "time_date = monthly_data.iloc[:,0]\n",
    "\n",
    "#cumulative monthly data\n",
    "ecdc_disease_noTime = monthly_data.drop(\"Time\", axis=1)\n",
    "cumulative_data = ecdc_disease_noTime.apply(lambda x: np.cumsum(x))"
   ]
  },
  {
   "cell_type": "code",
   "execution_count": 9,
   "metadata": {},
   "outputs": [
    {
     "data": {
      "text/plain": [
       "504"
      ]
     },
     "execution_count": 9,
     "metadata": {},
     "output_type": "execute_result"
    }
   ],
   "source": [
    "len(time_date)*2"
   ]
  },
  {
   "cell_type": "markdown",
   "metadata": {},
   "source": [
    "###### Based on the monthly / cumulative data"
   ]
  },
  {
   "cell_type": "code",
   "execution_count": null,
   "metadata": {},
   "outputs": [],
   "source": [
    "def f_ssq(beta_vec):\n",
    "    \n",
    "    beta = np.eye(7)*beta_vec\n",
    "    mdl = m.SIRVModel(para, lambda t: beta)\n",
    "    new_ic = np.hstack([0.95*(1./7)*np.ones(2), np.zeros(5), 0.05*(1./7)*np.ones(2), np.zeros(5), np.zeros(7), V_ic])\n",
    "    out, t = mdl.run(new_ic ,t_max = 19,method=\"RK45\", eval_per_year=24)\n",
    "    \n",
    "    #Something to do with this monthly cases\n",
    "    \n",
    "    monthly_OUT = out[7:(7*2),1::2]\n",
    "    groups = monthly_OUT.shape[0]\n",
    "    ssq_diff = 0\n",
    "    for ii in range(groups):\n",
    "    Inf_group = OUT[ii,:]\n",
    "    cum_infected_sim = Inf_group[1::2]\n",
    "    #monthly data\n",
    "    monthly_infected_sim = np.diff(cum_infected_sim)\n",
    "    #adding the squared diff\n",
    "    ssq_diff += (monthly_infected_sim - monthly_data[age_class[ii]])**2"
   ]
  },
  {
   "cell_type": "code",
   "execution_count": null,
   "metadata": {},
   "outputs": [],
   "source": [
    "monthly_OUT = out[7:(7*2),1::2]\n",
    "\n",
    "groups = monthly_OUT.shape[0]\n",
    "ssq_diff = 0\n",
    "for ii in range(groups):\n",
    "    Inf_group = OUT[ii,:]\n",
    "    cum_infected_sim = Inf_group[1::2]\n",
    "    #monthly data\n",
    "    monthly_infected_sim = np.diff(cum_infected_sim)\n",
    "    #adding the squared diff\n",
    "    ssq_diff += (monthly_infected_sim - monthly_data[age_class[ii]])**2"
   ]
  },
  {
   "cell_type": "code",
   "execution_count": null,
   "metadata": {},
   "outputs": [],
   "source": [
    "scipy.optimize.fmin(f_ssq, x0 = beta = [0.98, 0.9, 0.85, 0.8, 0.7, 0.7, 0.7] , args=(), xtol=0.0001, ftol=0.0001, maxiter=None, maxfun=None, full_output=0, disp=1, retall=0, callback=None)[source]"
   ]
  }
 ],
 "metadata": {
  "kernelspec": {
   "display_name": "Python 3",
   "language": "python",
   "name": "python3"
  },
  "language_info": {
   "codemirror_mode": {
    "name": "ipython",
    "version": 3
   },
   "file_extension": ".py",
   "mimetype": "text/x-python",
   "name": "python",
   "nbconvert_exporter": "python",
   "pygments_lexer": "ipython3",
   "version": "3.7.3"
  }
 },
 "nbformat": 4,
 "nbformat_minor": 4
}
