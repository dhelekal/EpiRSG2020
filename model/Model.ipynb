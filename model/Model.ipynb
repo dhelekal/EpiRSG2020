{
 "cells": [
  {
   "cell_type": "code",
   "execution_count": 1,
   "metadata": {},
   "outputs": [],
   "source": [
    "import numpy as np\n",
    "from scipy.integrate import odeint"
   ]
  },
  {
   "cell_type": "code",
   "execution_count": 2,
   "metadata": {},
   "outputs": [],
   "source": [
    "#parameters\n",
    "B = 0.12                    # birth rate\n",
    "k = 9                       # number of age groups\n",
    "gamma = 1/14 * np.ones(k)   # recovery rate \n",
    "t_aging = 241               # suppose people grow older at September"
   ]
  },
  {
   "cell_type": "code",
   "execution_count": 3,
   "metadata": {},
   "outputs": [],
   "source": [
    "Vac = np.zeros(k)       # vaccination rate\n",
    "D = np.zeros(k)         # death rate\n",
    "M = np.zeros((k,k))     # aging matrix # can be determined once the age group fixed\n",
    "beta = np.zeros((k,k))  # contact rate # need to fit"
   ]
  },
  {
   "cell_type": "code",
   "execution_count": 4,
   "metadata": {},
   "outputs": [],
   "source": [
    "def f(y,t,params):\n",
    "    y = np.concatenate((S,I,R,V), axis = None)                     \n",
    "    \n",
    "    # birth\n",
    "    B_vec = np.zeros(k)\n",
    "    B_vec[0] = B\n",
    "    \n",
    "    # vaccination\n",
    "    # Vac  susceptible people get vaccination\n",
    "    \n",
    "    # death\n",
    "    # D\n",
    "    \n",
    "    # force of infection\n",
    "    Conr = beta.dot(S)             #contact rate\n",
    "    Inf = np.multiply(Conr,I)\n",
    "    \n",
    "    # recovery\n",
    "    # gamma is a constant vector\n",
    "   \n",
    "    \n",
    "    # aging\n",
    "    M_matrix = np.zeros((k,k))\n",
    "    if t == t_aging:\n",
    "        M_matrix = M\n",
    "    \n",
    "    \n",
    "    derivs = [B_vec - np.multiply((Vac + D), I) - Inf + M_matrix.dot(S),\n",
    "             Inf - np.multiply((D_vec + R_vec),I) + M_matrix.dot(I),\n",
    "             np.multiply(R_vec, I) - np.multiply(D_vec, R) + M_matrix.dot(R),\n",
    "             np.multiply(Vac, S) - np.multiply(D_vec, V) + M_matrix.dot(V)]\n",
    "    \n",
    "    return derivs"
   ]
  },
  {
   "cell_type": "code",
   "execution_count": 5,
   "metadata": {},
   "outputs": [],
   "source": [
    "# initial condition\n",
    "S0 = np.zeros(k)\n",
    "I0 = np.zeros(k)\n",
    "R0 = np.zeros(k)\n",
    "V0 = np.zeros(k)\n",
    "\n",
    "y0 = np.concatenate((S0, I0, R0, V0),axis = None) "
   ]
  },
  {
   "cell_type": "code",
   "execution_count": 6,
   "metadata": {},
   "outputs": [
    {
     "data": {
      "text/plain": [
       "(36,)"
      ]
     },
     "execution_count": 6,
     "metadata": {},
     "output_type": "execute_result"
    }
   ],
   "source": [
    "np.shape(y0)"
   ]
  },
  {
   "cell_type": "code",
   "execution_count": 7,
   "metadata": {},
   "outputs": [],
   "source": [
    "tStop = 365\n",
    "tInc = 1\n",
    "t = np.arange(0, tInc, tStop)\n",
    "\n",
    "ysoln = odeint(f,y0,t)"
   ]
  },
  {
   "cell_type": "code",
   "execution_count": null,
   "metadata": {},
   "outputs": [],
   "source": []
  }
 ],
 "metadata": {
  "kernelspec": {
   "display_name": "Python 3",
   "language": "python",
   "name": "python3"
  },
  "language_info": {
   "codemirror_mode": {
    "name": "ipython",
    "version": 3
   },
   "file_extension": ".py",
   "mimetype": "text/x-python",
   "name": "python",
   "nbconvert_exporter": "python",
   "pygments_lexer": "ipython3",
   "version": "3.8.2"
  }
 },
 "nbformat": 4,
 "nbformat_minor": 2
}
