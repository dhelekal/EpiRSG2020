{
 "cells": [
  {
   "cell_type": "code",
   "execution_count": 1,
   "metadata": {},
   "outputs": [],
   "source": [
    "import model as m \n",
    "import numpy as np\n",
    "import matplotlib.pyplot as plt\n",
    "\n",
    "import pandas as pd\n",
    "import scipy"
   ]
  },
  {
   "cell_type": "code",
   "execution_count": 2,
   "metadata": {},
   "outputs": [],
   "source": [
    "age_class = [\"<1\", \"1-4\", \"5-9\", \"10-14\", \"15-19\", \"20-29\", \"30+\"]"
   ]
  },
  {
   "cell_type": "code",
   "execution_count": 3,
   "metadata": {},
   "outputs": [],
   "source": [
    "#Select disease\n",
    "d = \"Measles\"\n",
    "\n",
    "#monthly data\n",
    "data = pd.read_csv( d +'_data_processed.csv')\n",
    "monthly_data = data.iloc[:,1:8]\n",
    "monthly_data = monthly_data[age_class]\n",
    "\n",
    "#I do not consider 2019\n",
    "monthly_data = monthly_data.iloc[0:(data.shape[0]-12),:]\n",
    "\n",
    "time_date = data[\"Time\"][0:(data.shape[0]-12)]"
   ]
  },
  {
   "cell_type": "code",
   "execution_count": 4,
   "metadata": {},
   "outputs": [
    {
     "name": "stdout",
     "output_type": "stream",
     "text": [
      "1999\n",
      "2018\n",
      "20 --> tmax\n"
     ]
    }
   ],
   "source": [
    "if d== \"Mumps\":\n",
    "    years_run = int(time_date[len(time_date)-1]) - int(time_date[0]) +1\n",
    "    start_yr = int(time_date[0])\n",
    "    end_yr = int(time_date[len(time_date)-1])\n",
    "else:\n",
    "    start_yr = int(time_date[0][0:4])\n",
    "    end_yr = int(time_date[len(time_date)-1][0:4])\n",
    "    years_run = int(time_date[len(time_date)-1][0:4]) - int(time_date[0][0:4]) +1\n",
    "\n",
    "print(start_yr)\n",
    "print(end_yr)\n",
    "print(years_run, \"--> tmax\")"
   ]
  },
  {
   "cell_type": "markdown",
   "metadata": {},
   "source": [
    "### Extracting birth and death rates for age groups:\n",
    "\n",
    "* Death rates: *death_rate_7_age_groups_1982-2018.csv*: \n",
    "$$ d_i = \\frac{\\text{number of death people who are in i-th age group}}{\\text{population in i-th age group}}$$\n",
    "* Births: *Crude_birth_rate_1938-2018.csv*, unit is birth number per 1000 population\n",
    "* Population: *population_7_age_groups_1982-2018.csv*"
   ]
  },
  {
   "cell_type": "code",
   "execution_count": 5,
   "metadata": {},
   "outputs": [
    {
     "name": "stdout",
     "output_type": "stream",
     "text": [
      "[0.0119 0.0115 0.0113 0.0113 0.0117 0.0119 0.012  0.0123 0.0126 0.0128\n",
      " 0.0127 0.0129 0.0128 0.0128 0.0121 0.012  0.0119 0.0118 0.0114 0.011 ]\n"
     ]
    }
   ],
   "source": [
    "##### Births\n",
    "Births = pd.read_csv(\"Data//Crude_birth_rate_1938-2018.csv\")\n",
    "\n",
    "#Select from year 1999 to 2018\n",
    "if d == \"Mumps\":\n",
    "    Births_years = Births.iloc[0:(end_yr-start_yr+1),:]\n",
    "else:\n",
    "    Births_years = Births.iloc[0:(end_yr-start_yr+1),:]\n",
    "\n",
    "#Selecting 3rd column for UK data\n",
    "Births_years_UK = Births_years.iloc[:,2] \n",
    "\n",
    "Births_UK =  Births_years_UK.to_numpy()\n",
    "#We shall reverse the order to go from 1999 to 2018\n",
    "\n",
    "Births_UK = np.asarray(list(reversed(Births_UK)))/1000 # Normalise to per capita\n",
    "\n",
    "print(Births_UK)"
   ]
  },
  {
   "cell_type": "code",
   "execution_count": 6,
   "metadata": {},
   "outputs": [
    {
     "name": "stdout",
     "output_type": "stream",
     "text": [
      "       1999      2000      2001      2002      2003      2004      2005  \\\n",
      "0  0.005762  0.005588  0.005570  0.005346  0.005421  0.005194  0.005126   \n",
      "1  0.000278  0.000236  0.000233  0.000239  0.000244  0.000231  0.000218   \n",
      "2  0.000118  0.000117  0.000120  0.000109  0.000111  0.000100  0.000096   \n",
      "3  0.000151  0.000135  0.000146  0.000142  0.000140  0.000124  0.000137   \n",
      "4  0.000434  0.000423  0.000422  0.000408  0.000380  0.000376  0.000377   \n",
      "5  0.000651  0.000653  0.000621  0.000624  0.000603  0.000572  0.000533   \n",
      "6  0.017067  0.016406  0.016096  0.016069  0.016072  0.015269  0.015122   \n",
      "\n",
      "       2006      2007      2008      2009      2010      2011      2012  \\\n",
      "0  0.005091  0.004938  0.004751  0.004698  0.004425  0.004371  0.004102   \n",
      "1  0.000228  0.000227  0.000210  0.000182  0.000182  0.000181  0.000164   \n",
      "2  0.000102  0.000096  0.000107  0.000093  0.000094  0.000083  0.000089   \n",
      "3  0.000131  0.000127  0.000101  0.000108  0.000099  0.000089  0.000095   \n",
      "4  0.000366  0.000351  0.000347  0.000330  0.000288  0.000251  0.000244   \n",
      "5  0.000536  0.000518  0.000526  0.000502  0.000464  0.000437  0.000408   \n",
      "6  0.014747  0.014732  0.014758  0.014128  0.014068  0.013713  0.014030   \n",
      "\n",
      "       2013      2014      2015      2016      2017      2018  \n",
      "0  0.003867  0.003873  0.003888  0.003839  0.003893  0.003799  \n",
      "1  0.000172  0.000157  0.000157  0.000154  0.000137  0.000132  \n",
      "2  0.000078  0.000085  0.000076  0.000069  0.000075  0.000074  \n",
      "3  0.000095  0.000096  0.000090  0.000089  0.000085  0.000091  \n",
      "4  0.000240  0.000248  0.000249  0.000237  0.000238  0.000267  \n",
      "5  0.000403  0.000418  0.000411  0.000435  0.000392  0.000433  \n",
      "6  0.014106  0.013820  0.014483  0.014203  0.014333  0.014412  \n"
     ]
    }
   ],
   "source": [
    "#### Deaths\n",
    "Deaths = pd.read_csv(\"Data//death_rate_7_age_groups_1982-2018.csv\")\n",
    "\n",
    "#exclude last row (no total)\n",
    "Deaths = Deaths.iloc[0:7,:]\n",
    "\n",
    "#Selecting columns for years 1999-2018\n",
    "\n",
    "Deaths_years = Deaths.iloc[:,np.where(Deaths.columns== str(start_yr))[0][0]:np.where(Deaths.columns==str(end_yr))[0][0]+1]\n",
    "\n",
    "print(Deaths_years)\n",
    "#Deaths_years.iloc[:,0].to_numpy()"
   ]
  },
  {
   "cell_type": "code",
   "execution_count": 7,
   "metadata": {},
   "outputs": [],
   "source": [
    "#### Population\n",
    "Pops = pd.read_csv(\"Data//population_7_age_groups_1982-2018.csv\")\n",
    "\n",
    "#Just need last row\n",
    "\n",
    "Pops_tot = Pops.iloc[7,np.where(Deaths.columns==str(start_yr))[0][0]:np.where(Deaths.columns==str(end_yr))[0][0]+1]\n",
    "\n",
    "#print(Pops_tot)\n",
    "\n",
    "Pops_tot = np.asarray(Pops_tot)"
   ]
  },
  {
   "cell_type": "markdown",
   "metadata": {},
   "source": [
    "##### Including real contact matrix from Polymod\n",
    "\n",
    "- equally weighted one"
   ]
  },
  {
   "cell_type": "code",
   "execution_count": 8,
   "metadata": {},
   "outputs": [],
   "source": [
    "Poly_7_new = pd.read_csv(\"Data/Poly_7.csv\")\n",
    "Poly_7_new = Poly_7_new.iloc[:,1:8]\n",
    "C_poly = Poly_7_new.values"
   ]
  },
  {
   "cell_type": "code",
   "execution_count": 9,
   "metadata": {},
   "outputs": [
    {
     "data": {
      "text/html": [
       "<div>\n",
       "<style scoped>\n",
       "    .dataframe tbody tr th:only-of-type {\n",
       "        vertical-align: middle;\n",
       "    }\n",
       "\n",
       "    .dataframe tbody tr th {\n",
       "        vertical-align: top;\n",
       "    }\n",
       "\n",
       "    .dataframe thead th {\n",
       "        text-align: right;\n",
       "    }\n",
       "</style>\n",
       "<table border=\"1\" class=\"dataframe\">\n",
       "  <thead>\n",
       "    <tr style=\"text-align: right;\">\n",
       "      <th></th>\n",
       "      <th>&lt;1</th>\n",
       "      <th>1-4</th>\n",
       "      <th>5-9</th>\n",
       "      <th>10-14</th>\n",
       "      <th>15-19</th>\n",
       "      <th>20-29</th>\n",
       "      <th>30+</th>\n",
       "    </tr>\n",
       "  </thead>\n",
       "  <tbody>\n",
       "    <tr>\n",
       "      <th>0</th>\n",
       "      <td>1.49</td>\n",
       "      <td>1.49</td>\n",
       "      <td>0.59</td>\n",
       "      <td>0.25</td>\n",
       "      <td>0.18</td>\n",
       "      <td>0.515</td>\n",
       "      <td>0.301111</td>\n",
       "    </tr>\n",
       "    <tr>\n",
       "      <th>1</th>\n",
       "      <td>0.74</td>\n",
       "      <td>0.74</td>\n",
       "      <td>3.82</td>\n",
       "      <td>0.53</td>\n",
       "      <td>0.44</td>\n",
       "      <td>0.395</td>\n",
       "      <td>0.402222</td>\n",
       "    </tr>\n",
       "    <tr>\n",
       "      <th>2</th>\n",
       "      <td>0.36</td>\n",
       "      <td>0.36</td>\n",
       "      <td>0.73</td>\n",
       "      <td>3.19</td>\n",
       "      <td>0.79</td>\n",
       "      <td>0.155</td>\n",
       "      <td>0.308889</td>\n",
       "    </tr>\n",
       "    <tr>\n",
       "      <th>3</th>\n",
       "      <td>0.26</td>\n",
       "      <td>0.26</td>\n",
       "      <td>0.22</td>\n",
       "      <td>0.52</td>\n",
       "      <td>3.10</td>\n",
       "      <td>0.485</td>\n",
       "      <td>0.285556</td>\n",
       "    </tr>\n",
       "    <tr>\n",
       "      <th>4</th>\n",
       "      <td>0.92</td>\n",
       "      <td>0.92</td>\n",
       "      <td>0.56</td>\n",
       "      <td>0.20</td>\n",
       "      <td>0.58</td>\n",
       "      <td>1.515</td>\n",
       "      <td>0.417778</td>\n",
       "    </tr>\n",
       "    <tr>\n",
       "      <th>5</th>\n",
       "      <td>2.94</td>\n",
       "      <td>2.94</td>\n",
       "      <td>2.84</td>\n",
       "      <td>2.21</td>\n",
       "      <td>1.86</td>\n",
       "      <td>1.975</td>\n",
       "      <td>2.127778</td>\n",
       "    </tr>\n",
       "    <tr>\n",
       "      <th>6</th>\n",
       "      <td>1.49</td>\n",
       "      <td>1.49</td>\n",
       "      <td>0.59</td>\n",
       "      <td>0.25</td>\n",
       "      <td>0.18</td>\n",
       "      <td>0.515</td>\n",
       "      <td>0.301111</td>\n",
       "    </tr>\n",
       "  </tbody>\n",
       "</table>\n",
       "</div>"
      ],
      "text/plain": [
       "     <1   1-4   5-9  10-14  15-19  20-29       30+\n",
       "0  1.49  1.49  0.59   0.25   0.18  0.515  0.301111\n",
       "1  0.74  0.74  3.82   0.53   0.44  0.395  0.402222\n",
       "2  0.36  0.36  0.73   3.19   0.79  0.155  0.308889\n",
       "3  0.26  0.26  0.22   0.52   3.10  0.485  0.285556\n",
       "4  0.92  0.92  0.56   0.20   0.58  1.515  0.417778\n",
       "5  2.94  2.94  2.84   2.21   1.86  1.975  2.127778\n",
       "6  1.49  1.49  0.59   0.25   0.18  0.515  0.301111"
      ]
     },
     "execution_count": 9,
     "metadata": {},
     "output_type": "execute_result"
    }
   ],
   "source": [
    "Poly_7_new"
   ]
  },
  {
   "cell_type": "markdown",
   "metadata": {},
   "source": [
    "#### Vaccine coverage and Vaccinated IC"
   ]
  },
  {
   "cell_type": "code",
   "execution_count": 10,
   "metadata": {},
   "outputs": [],
   "source": [
    "Cov_rate = pd.read_csv(\"Data//\" +d +'_vaccine_coverage.csv')\n",
    "V_ic = Cov_rate.iloc[0:7,1:2]\n",
    "V_ic = V_ic.to_numpy().reshape((7,))/100\n",
    "Cov_rate_years = Cov_rate.iloc[0:7,2:21]\n",
    "\n",
    "# Issue: vaccination rate is up until 2016, now assume 2017-19 are the same?\n",
    "Cov_rate_years[\"2017\"] = Cov_rate_years[\"2018\"]  = Cov_rate_years[\"2016\"]\n",
    "\n",
    "Cov_rate_years = Cov_rate_years.iloc[:,np.where(Cov_rate_years.columns== str(start_yr))[0][0]:np.where(Cov_rate_years.columns==str(end_yr))[0][0]+1]\n",
    "Shift_cov_rate_years = Cov_rate_years.iloc[np.hstack([6, np.arange(0,6)]),:]"
   ]
  },
  {
   "cell_type": "code",
   "execution_count": 11,
   "metadata": {},
   "outputs": [],
   "source": [
    "#Prepare Model Parameters\n",
    "pop_scale = 1000 #Set scale to cases per 1000 \n",
    "age_struct_start = np.asarray(Pops[str(start_yr)][0:7]/np.sum(Pops[str(start_yr)][0:7]))\n",
    "\n",
    "para = m.ModelParams(\n",
    "    age_strucure=[0,1, 5, 10, 15, 20, 30],  #age cuts\n",
    "    B= lambda t: (Births_UK*pop_scale)[int(np.floor(t))],  #births rate per 1000\n",
    "    V=lambda t: (Shift_cov_rate_years.to_numpy()/100.0)[:, (int(np.floor(t))-1)],\n",
    "    d=lambda t: Deaths_years.to_numpy()[:, int(np.floor(t))],  #death rate per capita\n",
    "    gamma=(1/7.0*365.0)*np.ones([7]),\n",
    "    C=C_poly*365,\n",
    "    N= lambda t: Pops_tot[int(np.floor(t))]\n",
    ")"
   ]
  },
  {
   "cell_type": "markdown",
   "metadata": {},
   "source": [
    "Each age group IC is weighted by their percetange at first year pop"
   ]
  },
  {
   "cell_type": "code",
   "execution_count": 12,
   "metadata": {},
   "outputs": [],
   "source": [
    "def estimate_SIR_IC(mdl, age_struct, pop_scale, V_ic, eps_I = 1e-6, k=7):\n",
    "    ###Start with a population where anyone who isnt vaccinated is susceptible \n",
    "    #(+eps_I level of infections))\n",
    "    S_ic = (np.ones(k)-V_ic)*(1-eps_I)\n",
    "    I_ic = (np.ones(k)-V_ic-S_ic)*[1,1,1,1,1,1,1]\n",
    "    R_ic = (np.ones(k) - S_ic - I_ic - V_ic)\n",
    "    \n",
    "    #Normalise profile\n",
    "    norm_ic = np.hstack([S_ic*age_struct_start,  \n",
    "                    I_ic*age_struct_start,\n",
    "                    R_ic*age_struct_start,\n",
    "                    V_ic*age_struct_start])*pop_scale\n",
    "    \n",
    "    ### Run for a year\n",
    "    out, t, out_YN = mdl.run(norm_ic, \n",
    "                             t_max = 1.0,\n",
    "                             method=\"RK45\",\n",
    "                             eval_per_year=120,\n",
    "                             pop_scale=pop_scale, atol=1e-3, rtol=1e-4)\n",
    "    \n",
    "    ### Note this only works for sensible betas and gammas \n",
    "    ###(i.e. assumes epidemic over in a year)\n",
    "    level_estimate = out[:, -1]\n",
    "    \n",
    "    S_level = level_estimate[0:k]\n",
    "    I_level = level_estimate[k:2*k]\n",
    "    R_level = level_estimate[2*k:3*k]\n",
    "    \n",
    "    S_const = S_level/(S_level+I_level+R_level)\n",
    "    I_const = I_level/(I_level+R_level)\n",
    "    \n",
    "    S_ic_est = (np.ones(k)-V_ic)*S_const\n",
    "    I_ic_est = (np.ones(k)-V_ic-S_ic_est)*I_const\n",
    "    R_ic_est = (np.ones(k)-V_ic-S_ic_est-I_ic_est)\n",
    "    \n",
    "    estimated_IC = np.hstack([S_ic_est*age_struct_start,\n",
    "                              I_ic_est*age_struct_start,\n",
    "                              R_ic_est*age_struct_start,\n",
    "                              V_ic*age_struct_start])*1000\n",
    "        \n",
    "    return(estimated_IC)    "
   ]
  },
  {
   "cell_type": "code",
   "execution_count": 21,
   "metadata": {},
   "outputs": [
    {
     "data": {
      "text/plain": [
       "Text(0.5, 1.0, 'Infected curve for all age groups (unnormalized)')"
      ]
     },
     "execution_count": 21,
     "metadata": {},
     "output_type": "execute_result"
    },
    {
     "data": {
      "image/png": "[encoded data removed]",
      "text/plain": [
       "<Figure size 1152x648 with 1 Axes>"
      ]
     },
     "metadata": {
      "needs_background": "light"
     },
     "output_type": "display_data"
    }
   ],
   "source": [
    "beta = np.eye(7)*[0.008,0.01,0.9,0.8,0.7,0.5,0.2] #This scales with time (to check compute r0)!\n",
    "mdl = m.SIRVModel(para, lambda t: beta)\n",
    "ic = estimate_SIR_IC(mdl, age_struct_start, pop_scale, V_ic)\n",
    "\n",
    "out, t, out_YN = mdl.run(ic ,t_max = years_run-0.00001, method=\"Radau\", eval_per_year=120, pop_scale=pop_scale, atol=1e-4, rtol = 1e-3)\n",
    "\n",
    "Inf_OUT = out[7:(7*2),:]\n",
    "plt.figure(figsize=(16,9))\n",
    "for ii in range(7):\n",
    "    plt.plot(t[0:len(t)], np.transpose(out[7+ii,0:len(t)]), label = age_class[ii])\n",
    "plt.legend()\n",
    "plt.title(\"Infected curve for all age groups (unnormalized)\", fontsize = 18)"
   ]
  },
  {
   "cell_type": "markdown",
   "metadata": {},
   "source": [
    "## Plotting the scaled infected by normalising pop"
   ]
  },
  {
   "cell_type": "code",
   "execution_count": null,
   "metadata": {},
   "outputs": [],
   "source": [
    "Inf_OUT = out[7:(7*2),:]\n",
    "plt.figure(figsize=(16,9))\n",
    "for ii in range(7):\n",
    "    tot = np.sum(out[np.array([0,7,14,21])+ii,], axis=0)\n",
    "    plt.plot(t[0:len(t)], (np.transpose(out[7+ii,]) / tot)[0:len(t)]*100, label = age_class[ii])\n",
    "plt.legend()\n",
    "if d == \"Mumps\":\n",
    "    plt.xticks(t[0:len(t)][np.arange(years_run)*51], time_date)\n",
    "else:\n",
    "    plt.xticks(t[0:len(t)][np.arange(years_run)*51], time_date[np.arange(1, years_run)*12])\n",
    "\n",
    "plt.title(\"Infected curve for all age groups (normalized per 100k)\", fontsize = 18)\n",
    "\n",
    "if d == \"Mumps\":\n",
    "    plt.savefig(\"Inf_sim_\"+d+\"_noOpt.svg\")"
   ]
  },
  {
   "cell_type": "markdown",
   "metadata": {},
   "source": [
    "# plt.figure(figsize=(16,9))\n",
    "for ii in range(7):\n",
    "    plt.plot(t, np.transpose(out[21+ii,:]/(out[0+ii,:]+out[7+ii,:]+out[14+ii,:]+out[21+ii,:])), label = age_class[ii])\n",
    "plt.legend()\n",
    "\n",
    "plt.title(\"Vaccinated curve for all age groups (unnormalized)\", fontsize = 18)"
   ]
  },
  {
   "cell_type": "code",
   "execution_count": null,
   "metadata": {},
   "outputs": [],
   "source": [
    "monthly_data_cut = monthly_data.iloc[0:(monthly_data.shape[0]-12),:]"
   ]
  },
  {
   "cell_type": "code",
   "execution_count": null,
   "metadata": {},
   "outputs": [],
   "source": [
    "import multiprocessing\n",
    "\n",
    "def get_yearly_rates(Y_N, eval_per_year, n_years):\n",
    "        return np.diff(Y_N[:,np.linspace(0, (eval_per_year-1)*n_years, n_years, dtype=np.int32)])\n",
    "\n",
    "def get_monthly_rates(Y_N, eval_per_year, n_years):\n",
    "        return np.diff(Y_N[:,np.linspace(0, (eval_per_year-1)*n_years, 12*n_years, dtype=np.int32)])\n",
    "                       \n",
    "def f_ssq(beta_vec):\n",
    "    n_eval=120\n",
    "    beta = np.eye(7)*np.maximum(beta_vec,0.0025)\n",
    "    mdl = m.SIRVModel(para, lambda t: beta)\n",
    "    \n",
    "    ic = estimate_SIR_IC(mdl, age_struct_start, pop_scale, V_ic)    \n",
    "    \n",
    "    if d == \"Mumps\":\n",
    "        out, t, out_YN = mdl.run(ic ,t_max = years_run-0.0001,method=\"RK45\", eval_per_year=n_eval, atol =1e-4, rtol = 1e-3)\n",
    "        new_inf = get_yearly_rates(out_YN, n_eval, years_run)\n",
    "    else:\n",
    "        out, t, out_YN = mdl.run(ic ,t_max = years_run-0.0001,method=\"RK45\", eval_per_year=n_eval, atol =1e-4, rtol = 1e-3)\n",
    "        new_inf = get_monthly_rates(out_YN, n_eval, years_run)\n",
    "    \n",
    "    ssq = np.sum(np.sum((new_inf-np.reshape(monthly_data[age_class].to_numpy()[0:-1], (7,-1))*1e-5*pop_scale)**2))\n",
    "    return ssq\n",
    "\n",
    "def f_ssq_wrapper(beta_vec, ret):\n",
    "    ret[0] = f_ssq(beta_vec)\n",
    "\n",
    "def f_ssq_timeout(beta_vec):\n",
    "    val = np.array([0])\n",
    "    p = multiprocessing.Process(target=f_ssq_wrapper, args = (beta_vec,val))\n",
    "    p.start()\n",
    "    p.join(10)\n",
    "    if p.is_alive():\n",
    "        print(\"Maximum computation time exceeded\")\n",
    "        p.terminate()\n",
    "        p.join()\n",
    "        return 1e100\n",
    "    else:\n",
    "        return val[0]"
   ]
  },
  {
   "cell_type": "code",
   "execution_count": null,
   "metadata": {},
   "outputs": [],
   "source": [
    "fit_measles = scipy.optimize.fmin(f_ssq, x0 = np.ones(7), xtol=1e-6\n",
    "                                  ,maxiter = 200, maxfun = 200, full_output=1)"
   ]
  },
  {
   "cell_type": "code",
   "execution_count": null,
   "metadata": {},
   "outputs": [],
   "source": [
    "beta_optimized_measles = fit_measles[0]"
   ]
  },
  {
   "cell_type": "code",
   "execution_count": null,
   "metadata": {},
   "outputs": [],
   "source": [
    "beta_optimized_measles "
   ]
  },
  {
   "cell_type": "markdown",
   "metadata": {},
   "source": [
    "### Plotting the final estimation"
   ]
  },
  {
   "cell_type": "code",
   "execution_count": null,
   "metadata": {},
   "outputs": [],
   "source": [
    "beta = np.eye(7)*beta_optimized_measles\n",
    "mdl = m.SIRVModel(para, lambda t: beta)\n",
    "out, t, yin = mdl.run(new_ic ,t_max = years_run-0.0001,method=\"Radau\", eval_per_year=12000)"
   ]
  },
  {
   "cell_type": "code",
   "execution_count": null,
   "metadata": {},
   "outputs": [],
   "source": [
    "Inf_OUT = out[7:(7*2),:]\n",
    "plt.figure(figsize=(16,9))\n",
    "for ii in range(7):\n",
    "    tot = np.sum(out[np.array([0,7,14,21])+ii,], axis=0)\n",
    "    plt.plot(t[0:len(t)], (np.transpose(yin[ii,]))[0:len(t)]*100000,label = age_class[ii])\n",
    "plt.legend()\n",
    "plt.xticks(t[0:len(t)][np.arange(years_run)*51], time_date[np.arange(1, years_run)*12])\n",
    "plt.title(\"Infected curve for all age groups (normalized per 100k)\", fontsize = 18)\n",
    "\n",
    "plt.savefig(\"Infected_sim_\"+d + \".svg\")"
   ]
  },
  {
   "cell_type": "code",
   "execution_count": null,
   "metadata": {},
   "outputs": [],
   "source": [
    "(Cov_rate_years.to_numpy()/100)[:,1]"
   ]
  },
  {
   "cell_type": "code",
   "execution_count": null,
   "metadata": {},
   "outputs": [],
   "source": []
  },
  {
   "cell_type": "code",
   "execution_count": null,
   "metadata": {},
   "outputs": [],
   "source": []
  },
  {
   "cell_type": "code",
   "execution_count": null,
   "metadata": {},
   "outputs": [],
   "source": []
  },
  {
   "cell_type": "code",
   "execution_count": null,
   "metadata": {},
   "outputs": [],
   "source": []
  }
 ],
 "metadata": {
  "kernelspec": {
   "display_name": "Python 3",
   "language": "python",
   "name": "python3"
  },
  "language_info": {
   "codemirror_mode": {
    "name": "ipython",
    "version": 3
   },
   "file_extension": ".py",
   "mimetype": "text/x-python",
   "name": "python",
   "nbconvert_exporter": "python",
   "pygments_lexer": "ipython3",
   "version": "3.8.2"
  }
 },
 "nbformat": 4,
 "nbformat_minor": 4
}
