{
 "cells": [
  {
   "cell_type": "code",
   "execution_count": null,
   "metadata": {},
   "outputs": [],
   "source": [
    "import numpy as np\n",
    "import matplotlib.pyplot as plt\n",
    "import pandas as pd "
   ]
  },
  {
   "cell_type": "code",
   "execution_count": null,
   "metadata": {},
   "outputs": [],
   "source": [
    "death = pd.read_csv(\"Age_group_UK_death_1974-2018.csv\") \n",
    "birth = pd.read_csv(\"Crude_birth_rate_1938-2018.csv\")\n",
    "people = pd.read_csv(\"Age_group_population_UK_1982-2019.csv\")\n",
    "origin_dr = pd.read_csv(\"death_rate_1982-2018.csv\")"
   ]
  },
  {
   "cell_type": "code",
   "execution_count": null,
   "metadata": {},
   "outputs": [],
   "source": [
    "A = death.iloc[-1, :]\n",
    "totaldeath = np.array(A[9:], dtype=np.float)    #extract total death data from 1982 to 2018\n",
    "totaldeath"
   ]
  },
  {
   "cell_type": "code",
   "execution_count": null,
   "metadata": {},
   "outputs": [],
   "source": [
    "B = people.iloc[-1,:]\n",
    "totalpopu = np.array(B[1:-1],dtype = np.float)       #extract total population data from 1982 to 2018\n",
    "deathrate = totaldeath/totalpopu * 1000             # calculate total deathrate from 1982-2018\n",
    "deathrate"
   ]
  },
  {
   "cell_type": "code",
   "execution_count": null,
   "metadata": {},
   "outputs": [],
   "source": [
    "C = birth['UK']                                 # extract birth rate\n",
    "birthrate = np.array(C[0:37], dtype=np.float)   # extract birth rate data from year 2018 to 1982\n",
    "birthr = np.zeros(birthrate.shape[0])                     # birth rate from 1982-2018\n",
    "for i in range(birthrate.shape[0]):\n",
    "       birthr[i] = birthrate[birthrate.shape[0]-i-1] "
   ]
  },
  {
   "cell_type": "code",
   "execution_count": null,
   "metadata": {},
   "outputs": [],
   "source": [
    "rescale = birthr/deathrate"
   ]
  },
  {
   "cell_type": "code",
   "execution_count": null,
   "metadata": {},
   "outputs": [],
   "source": [
    "rescale"
   ]
  },
  {
   "cell_type": "code",
   "execution_count": null,
   "metadata": {},
   "outputs": [],
   "source": [
    "ndr = rescale * deathrate\n",
    "year = np.arange(1982,2019)\n",
    "plt.figure(figsize=(14,8))\n",
    "plt.plot(year,birthr,'r',label='birth rate')\n",
    "plt.plot(year,ndr,':b',label = 'rescaled death rate')\n",
    "plt.plot(year,deathrate,'b',label='death rate')\n",
    "plt.xlabel('Year')\n",
    "plt.ylabel('Rate:per 1000 population')\n",
    "plt.title('Birth rate and rescaled death rate from 1982 to 2018, per 1000 population')\n",
    "plt.legend(loc=\"upper right\",fontsize=15)"
   ]
  },
  {
   "cell_type": "code",
   "execution_count": null,
   "metadata": {},
   "outputs": [],
   "source": [
    "origin_dr"
   ]
  },
  {
   "cell_type": "code",
   "execution_count": null,
   "metadata": {},
   "outputs": [],
   "source": [
    "year = ['1982', '1983','1984','1985','1986','1987','1988','1989','1990','1991','1992','1993','1994','1995','1996','1997','1998','1999','2000','2001','2002','2003','2004','2005','2006','2007','2008','2009','2010','2011','2012','2013','2014','2015','2016','2017','2018']"
   ]
  },
  {
   "cell_type": "code",
   "execution_count": null,
   "metadata": {},
   "outputs": [],
   "source": [
    "ddd = {'Age': origin_dr['Age'][0:-2]}"
   ]
  },
  {
   "cell_type": "code",
   "execution_count": null,
   "metadata": {},
   "outputs": [],
   "source": [
    "for i in range(len(year)):\n",
    "    k = year[i]\n",
    "    new_dr = rescale[i] * origin_dr[k][0:-2]\n",
    "    ddd.update({k : new_dr})"
   ]
  },
  {
   "cell_type": "code",
   "execution_count": null,
   "metadata": {
    "scrolled": true
   },
   "outputs": [],
   "source": [
    "ddd"
   ]
  },
  {
   "cell_type": "code",
   "execution_count": null,
   "metadata": {},
   "outputs": [],
   "source": [
    "column = ['Age']\n",
    "column = column + year"
   ]
  },
  {
   "cell_type": "code",
   "execution_count": null,
   "metadata": {},
   "outputs": [],
   "source": [
    "df = pd.DataFrame(ddd, columns= column)"
   ]
  },
  {
   "cell_type": "code",
   "execution_count": null,
   "metadata": {},
   "outputs": [],
   "source": [
    "df"
   ]
  },
  {
   "cell_type": "code",
   "execution_count": null,
   "metadata": {},
   "outputs": [],
   "source": [
    "df.to_csv (r'rescaled_death_rate.csv', index = False, header=True)"
   ]
  },
  {
   "cell_type": "code",
   "execution_count": null,
   "metadata": {},
   "outputs": [],
   "source": [
    "#check "
   ]
  },
  {
   "cell_type": "code",
   "execution_count": null,
   "metadata": {},
   "outputs": [],
   "source": [
    "check = pd.read_csv(\"rescaled_death_rate.csv\") \n",
    "check"
   ]
  },
  {
   "cell_type": "code",
   "execution_count": null,
   "metadata": {},
   "outputs": [],
   "source": [
    "check_dr = np.zeros(len(year))"
   ]
  },
  {
   "cell_type": "code",
   "execution_count": null,
   "metadata": {},
   "outputs": [],
   "source": [
    "for i in range(len(year)):\n",
    "    check_dr[i] = round(np.sum(check[year[i]] * people[year[i]][:-1] /1000) / people[year[i]].iloc[-1] * 1000,1)"
   ]
  },
  {
   "cell_type": "code",
   "execution_count": null,
   "metadata": {},
   "outputs": [],
   "source": [
    "plt.figure(figsize=(14,8))\n",
    "year_n = range(1982,2019)\n",
    "plt.plot(year_n, check_dr, 'r',label = 'rescaled death rate')\n",
    "plt.plot(year_n, birthr, ':b', label = 'birth rate')\n",
    "plt.title('birth rate and rescaled death rate from 1982 to 2018, per 1000 population')\n",
    "plt.xlabel('Year')\n",
    "plt.ylabel('Rate:per 1000 population')\n",
    "plt.legend(loc=\"upper right\",fontsize=15);"
   ]
  },
  {
   "cell_type": "code",
   "execution_count": null,
   "metadata": {},
   "outputs": [],
   "source": []
  }
 ],
 "metadata": {
  "kernelspec": {
   "display_name": "Python 3",
   "language": "python",
   "name": "python3"
  },
  "language_info": {
   "codemirror_mode": {
    "name": "ipython",
    "version": 3
   },
   "file_extension": ".py",
   "mimetype": "text/x-python",
   "name": "python",
   "nbconvert_exporter": "python",
   "pygments_lexer": "ipython3",
   "version": "3.7.3"
  }
 },
 "nbformat": 4,
 "nbformat_minor": 2
}
