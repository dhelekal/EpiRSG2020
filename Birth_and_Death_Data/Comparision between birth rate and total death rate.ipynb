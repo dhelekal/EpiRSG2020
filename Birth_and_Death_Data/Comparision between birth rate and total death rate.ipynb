{
 "cells": [
  {
   "cell_type": "code",
   "execution_count": null,
   "metadata": {},
   "outputs": [],
   "source": [
    "import numpy as np\n",
    "import matplotlib.pyplot as plt\n",
    "import pandas as pd "
   ]
  },
  {
   "cell_type": "code",
   "execution_count": null,
   "metadata": {},
   "outputs": [],
   "source": [
    "death = pd.read_csv(\"Age_group_UK_death_1974-2018.csv\") \n",
    "people = pd.read_csv(\"Age_group_population_UK_1982-2019.csv\")\n",
    "birth = pd.read_csv(\"Crude_birth_rate_1938-2018.csv\")"
   ]
  },
  {
   "cell_type": "code",
   "execution_count": null,
   "metadata": {},
   "outputs": [],
   "source": [
    "A = death.iloc[-1, :]\n",
    "totaldeath = np.array(A[9:], dtype=np.float)    #extract total death data from 1982 to 2018\n",
    "totaldeath.shape"
   ]
  },
  {
   "cell_type": "code",
   "execution_count": null,
   "metadata": {},
   "outputs": [],
   "source": [
    "totaldeath"
   ]
  },
  {
   "cell_type": "code",
   "execution_count": null,
   "metadata": {},
   "outputs": [],
   "source": [
    "B = people.iloc[-1,:]\n",
    "totalpopu = np.array(B[1:-1],dtype = np.float)       #extract total population data from 1982 to 2018\n",
    "totalpopu"
   ]
  },
  {
   "cell_type": "code",
   "execution_count": null,
   "metadata": {},
   "outputs": [],
   "source": [
    "deathrate = totaldeath/totalpopu * 1000             # calculate total deathrate from 1982-2018\n",
    "deathrate"
   ]
  },
  {
   "cell_type": "code",
   "execution_count": null,
   "metadata": {},
   "outputs": [],
   "source": [
    "C = birth['UK']                                 # extract birth rate\n",
    "C"
   ]
  },
  {
   "cell_type": "code",
   "execution_count": null,
   "metadata": {},
   "outputs": [],
   "source": [
    "birthrate = np.array(C[0:37], dtype=np.float)    #extract birth rate data from year 2018 to 1982\n",
    "birthrate"
   ]
  },
  {
   "cell_type": "code",
   "execution_count": null,
   "metadata": {},
   "outputs": [],
   "source": [
    "birthr = np.zeros(birthrate.shape[0])                     # birth rate from 1982-2018\n",
    "for i in range(birthrate.shape[0]):\n",
    "       birthr[i] = birthrate[birthrate.shape[0]-i-1] "
   ]
  },
  {
   "cell_type": "code",
   "execution_count": null,
   "metadata": {},
   "outputs": [],
   "source": [
    "birthr"
   ]
  },
  {
   "cell_type": "code",
   "execution_count": null,
   "metadata": {},
   "outputs": [],
   "source": [
    "year = np.arange(1982,2019)\n",
    "year"
   ]
  },
  {
   "cell_type": "code",
   "execution_count": null,
   "metadata": {},
   "outputs": [],
   "source": [
    "plt.figure(figsize=(14,8))\n",
    "plt.plot(year,birthr,'r',label='birth rate')\n",
    "plt.plot(year,deathrate,'b',label = 'death rate')\n",
    "plt.xlabel('Year')\n",
    "plt.ylabel('Rate:per 1000 population')\n",
    "plt.title('Birth rate and death rate from 1982 to 2018, per 1000 population')\n",
    "plt.legend(loc=\"upper right\",fontsize=15)"
   ]
  },
  {
   "cell_type": "code",
   "execution_count": null,
   "metadata": {},
   "outputs": [],
   "source": []
  }
 ],
 "metadata": {
  "kernelspec": {
   "display_name": "Python 3",
   "language": "python",
   "name": "python3"
  },
  "language_info": {
   "codemirror_mode": {
    "name": "ipython",
    "version": 3
   },
   "file_extension": ".py",
   "mimetype": "text/x-python",
   "name": "python",
   "nbconvert_exporter": "python",
   "pygments_lexer": "ipython3",
   "version": "3.7.3"
  }
 },
 "nbformat": 4,
 "nbformat_minor": 2
}
