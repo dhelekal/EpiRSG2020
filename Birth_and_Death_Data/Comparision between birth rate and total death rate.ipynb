{
 "cells": [
  {
   "cell_type": "code",
   "execution_count": 29,
   "metadata": {},
   "outputs": [],
   "source": [
    "import numpy as np\n",
    "import matplotlib.pyplot as plt\n",
    "import pandas as pd "
   ]
  },
  {
   "cell_type": "code",
   "execution_count": 71,
   "metadata": {},
   "outputs": [],
   "source": [
    "death = pd.read_csv(\"Age_group_UK_death_1974-2018.csv\") \n",
    "people = pd.read_csv(\"Age_group_population_UK_1982-2019.csv\")\n",
    "birth = pd.read_csv(\"Crude_birth_rate_1938-2018.csv\")"
   ]
  },
  {
   "cell_type": "code",
   "execution_count": 72,
   "metadata": {},
   "outputs": [
    {
     "data": {
      "text/plain": [
       "(37,)"
      ]
     },
     "execution_count": 72,
     "metadata": {},
     "output_type": "execute_result"
    }
   ],
   "source": [
    "A = death.iloc[-1, :]\n",
    "totaldeath = np.array(A[9:], dtype=np.float)    #extract total death data from 1982 to 2018\n",
    "totaldeath.shape"
   ]
  },
  {
   "cell_type": "code",
   "execution_count": 73,
   "metadata": {},
   "outputs": [
    {
     "data": {
      "text/plain": [
       "array([662801., 659101., 644918., 670656., 660735., 644342., 649178.,\n",
       "       657733., 641799., 646181., 634238., 658194., 626222., 641712.,\n",
       "       638879., 632517., 627592., 629476., 610579., 604393., 608045.,\n",
       "       612085., 584791., 582964., 572224., 574687., 579697., 559617.,\n",
       "       561666., 552232., 569024., 576458., 570341., 602782., 597206.,\n",
       "       607172., 616014.])"
      ]
     },
     "execution_count": 73,
     "metadata": {},
     "output_type": "execute_result"
    }
   ],
   "source": [
    "totaldeath"
   ]
  },
  {
   "cell_type": "code",
   "execution_count": 74,
   "metadata": {},
   "outputs": [
    {
     "data": {
      "text/plain": [
       "array([56305900., 56347300., 56459700., 56617900., 56763300., 56930000.,\n",
       "       57065300., 57236500., 57410400., 57438800., 57584800., 57713700.,\n",
       "       57861400., 58024400., 58164100., 58313800., 58474900., 58684300.,\n",
       "       58885700., 59113016., 59365677., 59636662., 59950364., 60413276.,\n",
       "       60826967., 61319075., 61823772., 62260486., 62759456., 63285145.,\n",
       "       63705030., 64105654., 64596752., 65110034., 65648054., 66040229.,\n",
       "       66435550.])"
      ]
     },
     "execution_count": 74,
     "metadata": {},
     "output_type": "execute_result"
    }
   ],
   "source": [
    "B = people.iloc[-1,:]\n",
    "totalpopu = np.array(B[1:-1],dtype = np.float)       #extract total population data from 1982 to 2018\n",
    "totalpopu"
   ]
  },
  {
   "cell_type": "code",
   "execution_count": 75,
   "metadata": {},
   "outputs": [
    {
     "data": {
      "text/plain": [
       "array([11.7714307 , 11.6971177 , 11.42262534, 11.84529981, 11.64017948,\n",
       "       11.31814509, 11.37605515, 11.49149581, 11.17914176, 11.24990425,\n",
       "       11.01398286, 11.40446722, 10.82279378, 11.05934745, 10.98407781,\n",
       "       10.84678069, 10.73267334, 10.72648051, 10.36888413, 10.22436412,\n",
       "       10.24236614, 10.26356908,  9.75458631,  9.64960086,  9.40740642,\n",
       "        9.37207549,  9.37660355,  8.98831725,  8.94950396,  8.72609204,\n",
       "        8.93216752,  8.99231135,  8.82925197,  9.25789718,  9.09708611,\n",
       "        9.19397175,  9.27235494])"
      ]
     },
     "execution_count": 75,
     "metadata": {},
     "output_type": "execute_result"
    }
   ],
   "source": [
    "deathrate = totaldeath/totalpopu * 1000             # calculate total deathrate from 1982-2018\n",
    "deathrate"
   ]
  },
  {
   "cell_type": "code",
   "execution_count": 76,
   "metadata": {},
   "outputs": [
    {
     "data": {
      "text/plain": [
       "0     11.0\n",
       "1     11.4\n",
       "2     11.8\n",
       "3     11.9\n",
       "4     12.0\n",
       "5     12.1\n",
       "6     12.8\n",
       "7     12.8\n",
       "8     12.9\n",
       "9     12.7\n",
       "10    12.8\n",
       "11    12.6\n",
       "12    12.3\n",
       "13    12.0\n",
       "14    11.9\n",
       "15    11.7\n",
       "16    11.3\n",
       "17    11.3\n",
       "18    11.5\n",
       "19    11.9\n",
       "20    12.3\n",
       "21    12.6\n",
       "22    12.6\n",
       "23    12.6\n",
       "24    13.0\n",
       "25    13.2\n",
       "26    13.6\n",
       "27    13.8\n",
       "28    13.9\n",
       "29    13.6\n",
       "      ... \n",
       "54    18.8\n",
       "55    18.5\n",
       "56    18.3\n",
       "57    17.9\n",
       "58    17.5\n",
       "59    16.9\n",
       "60    16.9\n",
       "61    16.6\n",
       "62    16.1\n",
       "63    15.5\n",
       "64    15.7\n",
       "65    15.9\n",
       "66    15.7\n",
       "67    15.8\n",
       "68    16.2\n",
       "69    17.1\n",
       "70    18.2\n",
       "71    21.2\n",
       "72    20.3\n",
       "73    18.1\n",
       "74    20.1\n",
       "75    18.5\n",
       "76    17.4\n",
       "77    15.5\n",
       "78    15.2\n",
       "79    15.2\n",
       "80    15.5\n",
       "81     NaN\n",
       "82     NaN\n",
       "83     NaN\n",
       "Name: UK, Length: 84, dtype: float64"
      ]
     },
     "execution_count": 76,
     "metadata": {},
     "output_type": "execute_result"
    }
   ],
   "source": [
    "C = birth['UK']                                 # extract birth rate\n",
    "C"
   ]
  },
  {
   "cell_type": "code",
   "execution_count": 77,
   "metadata": {},
   "outputs": [
    {
     "data": {
      "text/plain": [
       "array([11. , 11.4, 11.8, 11.9, 12. , 12.1, 12.8, 12.8, 12.9, 12.7, 12.8,\n",
       "       12.6, 12.3, 12. , 11.9, 11.7, 11.3, 11.3, 11.5, 11.9, 12.3, 12.6,\n",
       "       12.6, 12.6, 13. , 13.2, 13.6, 13.8, 13.9, 13.6, 13.8, 13.7, 13.3,\n",
       "       13.3, 12.9, 12.8, 12.8])"
      ]
     },
     "execution_count": 77,
     "metadata": {},
     "output_type": "execute_result"
    }
   ],
   "source": [
    "birthrate = np.array(C[0:37], dtype=np.float)    #extract birth rate data from year 2018 to 1982\n",
    "birthrate"
   ]
  },
  {
   "cell_type": "code",
   "execution_count": 88,
   "metadata": {},
   "outputs": [],
   "source": [
    "birthr = np.zeros(birthrate.shape[0])                     # birth rate from 1982-2018\n",
    "for i in range(birthrate.shape[0]):\n",
    "       birthr[i] = birthrate[birthrate.shape[0]-i-1] "
   ]
  },
  {
   "cell_type": "code",
   "execution_count": 89,
   "metadata": {},
   "outputs": [
    {
     "data": {
      "text/plain": [
       "array([12.8, 12.8, 12.9, 13.3, 13.3, 13.7, 13.8, 13.6, 13.9, 13.8, 13.6,\n",
       "       13.2, 13. , 12.6, 12.6, 12.6, 12.3, 11.9, 11.5, 11.3, 11.3, 11.7,\n",
       "       11.9, 12. , 12.3, 12.6, 12.8, 12.7, 12.9, 12.8, 12.8, 12.1, 12. ,\n",
       "       11.9, 11.8, 11.4, 11. ])"
      ]
     },
     "execution_count": 89,
     "metadata": {},
     "output_type": "execute_result"
    }
   ],
   "source": [
    "birthr"
   ]
  },
  {
   "cell_type": "code",
   "execution_count": 57,
   "metadata": {},
   "outputs": [
    {
     "data": {
      "text/plain": [
       "array([1982, 1983, 1984, 1985, 1986, 1987, 1988, 1989, 1990, 1991, 1992,\n",
       "       1993, 1994, 1995, 1996, 1997, 1998, 1999, 2000, 2001, 2002, 2003,\n",
       "       2004, 2005, 2006, 2007, 2008, 2009, 2010, 2011, 2012, 2013, 2014,\n",
       "       2015, 2016, 2017, 2018])"
      ]
     },
     "execution_count": 57,
     "metadata": {},
     "output_type": "execute_result"
    }
   ],
   "source": [
    "year = np.arange(1982,2019)\n",
    "year"
   ]
  },
  {
   "cell_type": "code",
   "execution_count": 102,
   "metadata": {},
   "outputs": [
    {
     "data": {
      "text/plain": [
       "<matplotlib.legend.Legend at 0x7f4b14b0feb8>"
      ]
     },
     "execution_count": 102,
     "metadata": {},
     "output_type": "execute_result"
    },
    {
     "data": {
      "image/png": "[encoded data removed]",
      "text/plain": [
       "<Figure size 1008x576 with 1 Axes>"
      ]
     },
     "metadata": {
      "needs_background": "light"
     },
     "output_type": "display_data"
    }
   ],
   "source": [
    "plt.figure(figsize=(14,8))\n",
    "plt.plot(year,birthr,'r',label='birth rate')\n",
    "plt.plot(year,deathrate,'b',label = 'death rate')\n",
    "plt.xlabel('Year')\n",
    "plt.ylabel('Rate:per 1000 population')\n",
    "plt.title('Birth rate and death rate from 1982 to 2018, per 1000 population')\n",
    "plt.legend(loc=\"upper right\",fontsize=15)"
   ]
  },
  {
   "cell_type": "code",
   "execution_count": null,
   "metadata": {},
   "outputs": [],
   "source": []
  }
 ],
 "metadata": {
  "kernelspec": {
   "display_name": "Python 3",
   "language": "python",
   "name": "python3"
  },
  "language_info": {
   "codemirror_mode": {
    "name": "ipython",
    "version": 3
   },
   "file_extension": ".py",
   "mimetype": "text/x-python",
   "name": "python",
   "nbconvert_exporter": "python",
   "pygments_lexer": "ipython3",
   "version": "3.7.3"
  }
 },
 "nbformat": 4,
 "nbformat_minor": 2
}
