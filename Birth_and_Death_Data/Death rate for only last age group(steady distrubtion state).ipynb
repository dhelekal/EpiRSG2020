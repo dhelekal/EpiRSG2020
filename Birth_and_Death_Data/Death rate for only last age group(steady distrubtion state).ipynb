{
 "cells": [
  {
   "cell_type": "code",
   "execution_count": null,
   "metadata": {},
   "outputs": [],
   "source": [
    "# Death rate (only for the last age group)"
   ]
  },
  {
   "cell_type": "code",
   "execution_count": null,
   "metadata": {},
   "outputs": [],
   "source": [
    "import numpy as np\n",
    "import matplotlib.pyplot as plt\n",
    "import pandas as pd "
   ]
  },
  {
   "cell_type": "code",
   "execution_count": null,
   "metadata": {},
   "outputs": [],
   "source": [
    "birth = pd.read_csv(\"Crude_birth_rate_1938-2018.csv\")"
   ]
  },
  {
   "cell_type": "code",
   "execution_count": null,
   "metadata": {},
   "outputs": [],
   "source": [
    "birth"
   ]
  },
  {
   "cell_type": "code",
   "execution_count": null,
   "metadata": {},
   "outputs": [],
   "source": [
    "B = birth['UK']                                 # extract birth rate 2018-1938\n",
    "B"
   ]
  },
  {
   "cell_type": "code",
   "execution_count": null,
   "metadata": {},
   "outputs": [],
   "source": [
    "birthrate = np.array(B[0:37], dtype=np.float)    #extract birth rate data from year 2018 to 1982\n",
    "birthr = np.zeros(birthrate.shape[0])                     # birth rate from 1982-2018\n",
    "for i in range(birthrate.shape[0]):\n",
    "       birthr[i] = birthrate[birthrate.shape[0]-i-1] "
   ]
  },
  {
   "cell_type": "code",
   "execution_count": null,
   "metadata": {},
   "outputs": [],
   "source": [
    "alpha1 = [1,4]         # age group is 0,1-4,5-9,10-14, ....60-64, 65-69, 70 and over\n",
    "alpha2 = 5 * np.ones(13)\n",
    "alpha = np.hstack((alpha1, alpha2))"
   ]
  },
  {
   "cell_type": "code",
   "execution_count": null,
   "metadata": {},
   "outputs": [],
   "source": [
    "NN = 0\n",
    "for i in range(alpha.shape[0]):\n",
    "    NN = NN + alpha[i]\n",
    "NN"
   ]
  },
  {
   "cell_type": "code",
   "execution_count": null,
   "metadata": {},
   "outputs": [],
   "source": [
    "deathr1 = np.zeros(birthr.shape[0]) \n",
    "for j in range(birthr.shape[0]):\n",
    "    deathr1[j] = 1/((1/birthr[j])*1000-NN)"
   ]
  },
  {
   "cell_type": "code",
   "execution_count": null,
   "metadata": {},
   "outputs": [],
   "source": [
    "deathr1         # death rate for the last age group (70 and over)"
   ]
  },
  {
   "cell_type": "code",
   "execution_count": null,
   "metadata": {},
   "outputs": [],
   "source": [
    "birthr   # birth rate for the total population (unit is per 1000 population)"
   ]
  },
  {
   "cell_type": "code",
   "execution_count": null,
   "metadata": {},
   "outputs": [],
   "source": [
    "df = {'year':range(1982,2019),\n",
    "     'death_rate_for_the_last_age_group_70_ and_over': deathr1}"
   ]
  },
  {
   "cell_type": "code",
   "execution_count": null,
   "metadata": {},
   "outputs": [],
   "source": [
    "df = pd.DataFrame(df, columns= ['year','death_rate_for_the_last_age_group_70_ and_over'])"
   ]
  },
  {
   "cell_type": "code",
   "execution_count": null,
   "metadata": {},
   "outputs": [],
   "source": [
    "df.to_csv (r'death_rate_for_the_last_age_group.csv', index = False, header=True)"
   ]
  },
  {
   "cell_type": "code",
   "execution_count": null,
   "metadata": {},
   "outputs": [],
   "source": []
  }
 ],
 "metadata": {
  "kernelspec": {
   "display_name": "Python 3",
   "language": "python",
   "name": "python3"
  },
  "language_info": {
   "codemirror_mode": {
    "name": "ipython",
    "version": 3
   },
   "file_extension": ".py",
   "mimetype": "text/x-python",
   "name": "python",
   "nbconvert_exporter": "python",
   "pygments_lexer": "ipython3",
   "version": "3.7.3"
  }
 },
 "nbformat": 4,
 "nbformat_minor": 2
}
