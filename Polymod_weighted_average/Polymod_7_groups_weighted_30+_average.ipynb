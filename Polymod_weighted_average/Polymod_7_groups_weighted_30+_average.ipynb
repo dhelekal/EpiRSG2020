{
 "cells": [
  {
   "cell_type": "markdown",
   "metadata": {},
   "source": [
    "### Merging Polymod classes"
   ]
  },
  {
   "cell_type": "code",
   "execution_count": 1,
   "metadata": {},
   "outputs": [],
   "source": [
    "import pandas as pd\n",
    "import numpy as np"
   ]
  },
  {
   "cell_type": "code",
   "execution_count": 74,
   "metadata": {},
   "outputs": [],
   "source": [
    "Polymod_data = pd.read_csv(\"Polymod_origin.csv\", header = 1, index_col = 0)"
   ]
  },
  {
   "cell_type": "code",
   "execution_count": 72,
   "metadata": {},
   "outputs": [],
   "source": [
    "Poly_4 = Polymod_data.iloc[0:6, :]"
   ]
  },
  {
   "cell_type": "markdown",
   "metadata": {},
   "source": [
    "Integrating age classes of contacts together"
   ]
  },
  {
   "cell_type": "code",
   "execution_count": 32,
   "metadata": {},
   "outputs": [
    {
     "name": "stdout",
     "output_type": "stream",
     "text": [
      "[0.92 0.56 0.2  0.58 1.9  1.13 0.63 0.37 0.46 0.69 0.5  0.58 0.31 0.19\n",
      " 0.03]\n"
     ]
    }
   ],
   "source": [
    "merge_20_29_row = np.asarray(np.sum(Polymod_data.iloc[4:6, :], axis = 0))\n",
    "print(merge_20_29_row)"
   ]
  },
  {
   "cell_type": "code",
   "execution_count": 50,
   "metadata": {},
   "outputs": [
    {
     "name": "stdout",
     "output_type": "stream",
     "text": [
      "[2.94 2.84 2.21 1.86 1.96 1.99 2.25 2.47 2.32 2.63 1.55 2.09 1.99 1.82\n",
      " 2.03]\n"
     ]
    }
   ],
   "source": [
    "merge_30_row = np.asarray(np.sum(Polymod_data.iloc[6:15, :], axis = 0))\n",
    "print(merge_30_row)"
   ]
  },
  {
   "cell_type": "code",
   "execution_count": 71,
   "metadata": {},
   "outputs": [
    {
     "name": "stderr",
     "output_type": "stream",
     "text": [
      "/home/yiping/anaconda3/lib/python3.7/site-packages/ipykernel_launcher.py:2: SettingWithCopyWarning: \n",
      "A value is trying to be set on a copy of a slice from a DataFrame\n",
      "\n",
      "See the caveats in the documentation: http://pandas.pydata.org/pandas-docs/stable/indexing.html#indexing-view-versus-copy\n",
      "  \n"
     ]
    }
   ],
   "source": [
    "Poly_5 = Poly_4[0:4]\n",
    "Poly_5.loc[\"20-29\"] = merge_20_29_row\n",
    "Poly_5.loc[\"30+\"] = merge_30_row"
   ]
  },
  {
   "cell_type": "code",
   "execution_count": 63,
   "metadata": {},
   "outputs": [
    {
     "data": {
      "text/plain": [
       "array([0.11235181, 0.11235181, 0.12517232, 0.12517232, 0.12489661,\n",
       "       0.12489661, 0.10035842, 0.10035842, 0.07444169])"
      ]
     },
     "execution_count": 63,
     "metadata": {},
     "output_type": "execute_result"
    }
   ],
   "source": [
    "# weight  \n",
    "n_par = [815/2, 815/2, 908/2, 908/2, 906/2, 906/2, 728/2, 728/2, 270]\n",
    "N = np.sum(n_par)\n",
    "w_par = n_par/N\n",
    "w_par"
   ]
  },
  {
   "cell_type": "code",
   "execution_count": 57,
   "metadata": {},
   "outputs": [],
   "source": [
    "Poly_6 = {'0-4':Poly_5['0-4'],\n",
    "          '5-9':Poly_5['5-9'],\n",
    "          '10-14':Poly_5['10-14'],\n",
    "          '15-19':Poly_5['15-19']}"
   ]
  },
  {
   "cell_type": "code",
   "execution_count": 62,
   "metadata": {},
   "outputs": [],
   "source": [
    "Poly_6.update({'20-29': np.sum(Poly_5.iloc[:, 4:6], axis = 1)/2})"
   ]
  },
  {
   "cell_type": "code",
   "execution_count": 67,
   "metadata": {},
   "outputs": [],
   "source": [
    "Poly_6.update({'30+': Poly_5.iloc[:, 6:].dot(w_par)})   #weighted average"
   ]
  },
  {
   "cell_type": "code",
   "execution_count": 69,
   "metadata": {},
   "outputs": [],
   "source": [
    "column = ['0-4', '5-9', '10-14', '15-19','20-29', '30+']\n",
    "polyweighted = pd.DataFrame(Poly_6, columns = column)"
   ]
  },
  {
   "cell_type": "code",
   "execution_count": 70,
   "metadata": {},
   "outputs": [
    {
     "data": {
      "text/html": [
       "<div>\n",
       "<style scoped>\n",
       "    .dataframe tbody tr th:only-of-type {\n",
       "        vertical-align: middle;\n",
       "    }\n",
       "\n",
       "    .dataframe tbody tr th {\n",
       "        vertical-align: top;\n",
       "    }\n",
       "\n",
       "    .dataframe thead th {\n",
       "        text-align: right;\n",
       "    }\n",
       "</style>\n",
       "<table border=\"1\" class=\"dataframe\">\n",
       "  <thead>\n",
       "    <tr style=\"text-align: right;\">\n",
       "      <th></th>\n",
       "      <th>0-4</th>\n",
       "      <th>5-9</th>\n",
       "      <th>10-14</th>\n",
       "      <th>15-19</th>\n",
       "      <th>20-29</th>\n",
       "      <th>30+</th>\n",
       "    </tr>\n",
       "    <tr>\n",
       "      <th>age of contact</th>\n",
       "      <th></th>\n",
       "      <th></th>\n",
       "      <th></th>\n",
       "      <th></th>\n",
       "      <th></th>\n",
       "      <th></th>\n",
       "    </tr>\n",
       "  </thead>\n",
       "  <tbody>\n",
       "    <tr>\n",
       "      <th>0-4</th>\n",
       "      <td>1.49</td>\n",
       "      <td>0.59</td>\n",
       "      <td>0.25</td>\n",
       "      <td>0.18</td>\n",
       "      <td>0.515</td>\n",
       "      <td>0.307812</td>\n",
       "    </tr>\n",
       "    <tr>\n",
       "      <th>5-9</th>\n",
       "      <td>0.74</td>\n",
       "      <td>3.82</td>\n",
       "      <td>0.53</td>\n",
       "      <td>0.44</td>\n",
       "      <td>0.395</td>\n",
       "      <td>0.410445</td>\n",
       "    </tr>\n",
       "    <tr>\n",
       "      <th>10-14</th>\n",
       "      <td>0.36</td>\n",
       "      <td>0.73</td>\n",
       "      <td>3.19</td>\n",
       "      <td>0.79</td>\n",
       "      <td>0.155</td>\n",
       "      <td>0.317936</td>\n",
       "    </tr>\n",
       "    <tr>\n",
       "      <th>15-19</th>\n",
       "      <td>0.26</td>\n",
       "      <td>0.22</td>\n",
       "      <td>0.52</td>\n",
       "      <td>3.10</td>\n",
       "      <td>0.485</td>\n",
       "      <td>0.288230</td>\n",
       "    </tr>\n",
       "    <tr>\n",
       "      <th>20-29</th>\n",
       "      <td>0.92</td>\n",
       "      <td>0.56</td>\n",
       "      <td>0.20</td>\n",
       "      <td>0.58</td>\n",
       "      <td>1.515</td>\n",
       "      <td>0.443601</td>\n",
       "    </tr>\n",
       "    <tr>\n",
       "      <th>30+</th>\n",
       "      <td>2.94</td>\n",
       "      <td>2.84</td>\n",
       "      <td>2.21</td>\n",
       "      <td>1.86</td>\n",
       "      <td>1.975</td>\n",
       "      <td>2.138009</td>\n",
       "    </tr>\n",
       "  </tbody>\n",
       "</table>\n",
       "</div>"
      ],
      "text/plain": [
       "                 0-4   5-9  10-14  15-19  20-29       30+\n",
       "age of contact                                           \n",
       "0-4             1.49  0.59   0.25   0.18  0.515  0.307812\n",
       "5-9             0.74  3.82   0.53   0.44  0.395  0.410445\n",
       "10-14           0.36  0.73   3.19   0.79  0.155  0.317936\n",
       "15-19           0.26  0.22   0.52   3.10  0.485  0.288230\n",
       "20-29           0.92  0.56   0.20   0.58  1.515  0.443601\n",
       "30+             2.94  2.84   2.21   1.86  1.975  2.138009"
      ]
     },
     "execution_count": 70,
     "metadata": {},
     "output_type": "execute_result"
    }
   ],
   "source": [
    "polyweighted    #### use the weighted average to get column '30+'"
   ]
  },
  {
   "cell_type": "code",
   "execution_count": 118,
   "metadata": {},
   "outputs": [
    {
     "data": {
      "text/html": [
       "<div>\n",
       "<style scoped>\n",
       "    .dataframe tbody tr th:only-of-type {\n",
       "        vertical-align: middle;\n",
       "    }\n",
       "\n",
       "    .dataframe tbody tr th {\n",
       "        vertical-align: top;\n",
       "    }\n",
       "\n",
       "    .dataframe thead th {\n",
       "        text-align: right;\n",
       "    }\n",
       "</style>\n",
       "<table border=\"1\" class=\"dataframe\">\n",
       "  <thead>\n",
       "    <tr style=\"text-align: right;\">\n",
       "      <th></th>\n",
       "      <th>0-4</th>\n",
       "      <th>5-9</th>\n",
       "      <th>10-14</th>\n",
       "      <th>15-19</th>\n",
       "      <th>20-29</th>\n",
       "      <th>30+</th>\n",
       "    </tr>\n",
       "    <tr>\n",
       "      <th>age of contact</th>\n",
       "      <th></th>\n",
       "      <th></th>\n",
       "      <th></th>\n",
       "      <th></th>\n",
       "      <th></th>\n",
       "      <th></th>\n",
       "    </tr>\n",
       "  </thead>\n",
       "  <tbody>\n",
       "    <tr>\n",
       "      <th>0-4</th>\n",
       "      <td>1.49</td>\n",
       "      <td>0.59</td>\n",
       "      <td>0.25</td>\n",
       "      <td>0.18</td>\n",
       "      <td>0.515</td>\n",
       "      <td>0.301111</td>\n",
       "    </tr>\n",
       "    <tr>\n",
       "      <th>5-9</th>\n",
       "      <td>0.74</td>\n",
       "      <td>3.82</td>\n",
       "      <td>0.53</td>\n",
       "      <td>0.44</td>\n",
       "      <td>0.395</td>\n",
       "      <td>0.402222</td>\n",
       "    </tr>\n",
       "    <tr>\n",
       "      <th>10-14</th>\n",
       "      <td>0.36</td>\n",
       "      <td>0.73</td>\n",
       "      <td>3.19</td>\n",
       "      <td>0.79</td>\n",
       "      <td>0.155</td>\n",
       "      <td>0.308889</td>\n",
       "    </tr>\n",
       "    <tr>\n",
       "      <th>15-19</th>\n",
       "      <td>0.26</td>\n",
       "      <td>0.22</td>\n",
       "      <td>0.52</td>\n",
       "      <td>3.10</td>\n",
       "      <td>0.485</td>\n",
       "      <td>0.285556</td>\n",
       "    </tr>\n",
       "    <tr>\n",
       "      <th>20-29</th>\n",
       "      <td>0.92</td>\n",
       "      <td>0.56</td>\n",
       "      <td>0.20</td>\n",
       "      <td>0.58</td>\n",
       "      <td>1.515</td>\n",
       "      <td>0.417778</td>\n",
       "    </tr>\n",
       "    <tr>\n",
       "      <th>30+</th>\n",
       "      <td>2.94</td>\n",
       "      <td>2.84</td>\n",
       "      <td>2.21</td>\n",
       "      <td>1.86</td>\n",
       "      <td>1.975</td>\n",
       "      <td>2.127778</td>\n",
       "    </tr>\n",
       "  </tbody>\n",
       "</table>\n",
       "</div>"
      ],
      "text/plain": [
       "                 0-4   5-9  10-14  15-19  20-29       30+\n",
       "age of contact                                           \n",
       "0-4             1.49  0.59   0.25   0.18  0.515  0.301111\n",
       "5-9             0.74  3.82   0.53   0.44  0.395  0.402222\n",
       "10-14           0.36  0.73   3.19   0.79  0.155  0.308889\n",
       "15-19           0.26  0.22   0.52   3.10  0.485  0.285556\n",
       "20-29           0.92  0.56   0.20   0.58  1.515  0.417778\n",
       "30+             2.94  2.84   2.21   1.86  1.975  2.127778"
      ]
     },
     "execution_count": 118,
     "metadata": {},
     "output_type": "execute_result"
    }
   ],
   "source": [
    "# Don't run this cell please\n",
    "# Use the average to get column '30+'"
   ]
  },
  {
   "cell_type": "markdown",
   "metadata": {},
   "source": [
    "Creating a another column for <1 identical to the previous 0-4"
   ]
  },
  {
   "cell_type": "code",
   "execution_count": 75,
   "metadata": {},
   "outputs": [
    {
     "data": {
      "text/plain": [
       "array([1.49      , 0.59      , 0.25      , 0.18      , 0.515     ,\n",
       "       0.30781224])"
      ]
     },
     "execution_count": 75,
     "metadata": {},
     "output_type": "execute_result"
    }
   ],
   "source": [
    "np.asarray(polyweighted.iloc[0,:])"
   ]
  },
  {
   "cell_type": "code",
   "execution_count": 76,
   "metadata": {},
   "outputs": [],
   "source": [
    "Poly_7 = polyweighted\n",
    "Poly_7.insert (0, \"<1\", Poly_7.iloc[:,0])"
   ]
  },
  {
   "cell_type": "code",
   "execution_count": 77,
   "metadata": {},
   "outputs": [],
   "source": [
    "first_line = np.asarray(Poly_7.iloc[0,:])\n",
    "Poly_7.loc[\"<1\"] = first_line"
   ]
  },
  {
   "cell_type": "code",
   "execution_count": 78,
   "metadata": {},
   "outputs": [
    {
     "data": {
      "text/html": [
       "<div>\n",
       "<style scoped>\n",
       "    .dataframe tbody tr th:only-of-type {\n",
       "        vertical-align: middle;\n",
       "    }\n",
       "\n",
       "    .dataframe tbody tr th {\n",
       "        vertical-align: top;\n",
       "    }\n",
       "\n",
       "    .dataframe thead th {\n",
       "        text-align: right;\n",
       "    }\n",
       "</style>\n",
       "<table border=\"1\" class=\"dataframe\">\n",
       "  <thead>\n",
       "    <tr style=\"text-align: right;\">\n",
       "      <th></th>\n",
       "      <th>&lt;1</th>\n",
       "      <th>0-4</th>\n",
       "      <th>5-9</th>\n",
       "      <th>10-14</th>\n",
       "      <th>15-19</th>\n",
       "      <th>20-29</th>\n",
       "      <th>30+</th>\n",
       "    </tr>\n",
       "    <tr>\n",
       "      <th>age of contact</th>\n",
       "      <th></th>\n",
       "      <th></th>\n",
       "      <th></th>\n",
       "      <th></th>\n",
       "      <th></th>\n",
       "      <th></th>\n",
       "      <th></th>\n",
       "    </tr>\n",
       "  </thead>\n",
       "  <tbody>\n",
       "    <tr>\n",
       "      <th>&lt;1</th>\n",
       "      <td>1.49</td>\n",
       "      <td>1.49</td>\n",
       "      <td>0.59</td>\n",
       "      <td>0.25</td>\n",
       "      <td>0.18</td>\n",
       "      <td>0.515</td>\n",
       "      <td>0.307812</td>\n",
       "    </tr>\n",
       "    <tr>\n",
       "      <th>0-4</th>\n",
       "      <td>1.49</td>\n",
       "      <td>1.49</td>\n",
       "      <td>0.59</td>\n",
       "      <td>0.25</td>\n",
       "      <td>0.18</td>\n",
       "      <td>0.515</td>\n",
       "      <td>0.307812</td>\n",
       "    </tr>\n",
       "    <tr>\n",
       "      <th>5-9</th>\n",
       "      <td>0.74</td>\n",
       "      <td>0.74</td>\n",
       "      <td>3.82</td>\n",
       "      <td>0.53</td>\n",
       "      <td>0.44</td>\n",
       "      <td>0.395</td>\n",
       "      <td>0.410445</td>\n",
       "    </tr>\n",
       "    <tr>\n",
       "      <th>10-14</th>\n",
       "      <td>0.36</td>\n",
       "      <td>0.36</td>\n",
       "      <td>0.73</td>\n",
       "      <td>3.19</td>\n",
       "      <td>0.79</td>\n",
       "      <td>0.155</td>\n",
       "      <td>0.317936</td>\n",
       "    </tr>\n",
       "    <tr>\n",
       "      <th>15-19</th>\n",
       "      <td>0.26</td>\n",
       "      <td>0.26</td>\n",
       "      <td>0.22</td>\n",
       "      <td>0.52</td>\n",
       "      <td>3.10</td>\n",
       "      <td>0.485</td>\n",
       "      <td>0.288230</td>\n",
       "    </tr>\n",
       "    <tr>\n",
       "      <th>20-29</th>\n",
       "      <td>0.92</td>\n",
       "      <td>0.92</td>\n",
       "      <td>0.56</td>\n",
       "      <td>0.20</td>\n",
       "      <td>0.58</td>\n",
       "      <td>1.515</td>\n",
       "      <td>0.443601</td>\n",
       "    </tr>\n",
       "    <tr>\n",
       "      <th>30+</th>\n",
       "      <td>2.94</td>\n",
       "      <td>2.94</td>\n",
       "      <td>2.84</td>\n",
       "      <td>2.21</td>\n",
       "      <td>1.86</td>\n",
       "      <td>1.975</td>\n",
       "      <td>2.138009</td>\n",
       "    </tr>\n",
       "  </tbody>\n",
       "</table>\n",
       "</div>"
      ],
      "text/plain": [
       "                  <1   0-4   5-9  10-14  15-19  20-29       30+\n",
       "age of contact                                                 \n",
       "<1              1.49  1.49  0.59   0.25   0.18  0.515  0.307812\n",
       "0-4             1.49  1.49  0.59   0.25   0.18  0.515  0.307812\n",
       "5-9             0.74  0.74  3.82   0.53   0.44  0.395  0.410445\n",
       "10-14           0.36  0.36  0.73   3.19   0.79  0.155  0.317936\n",
       "15-19           0.26  0.26  0.22   0.52   3.10  0.485  0.288230\n",
       "20-29           0.92  0.92  0.56   0.20   0.58  1.515  0.443601\n",
       "30+             2.94  2.94  2.84   2.21   1.86  1.975  2.138009"
      ]
     },
     "execution_count": 78,
     "metadata": {},
     "output_type": "execute_result"
    }
   ],
   "source": [
    "Poly_7.reindex([\"<1\", \"0-4\", \"5-9\", \"10-14\", \"15-19\", \"20-29\", \"30+\"])"
   ]
  },
  {
   "cell_type": "code",
   "execution_count": 79,
   "metadata": {},
   "outputs": [],
   "source": [
    "Poly_7_new = Poly_7.rename(columns={'0-4': '1-4'}, index={'0-4': '1-4'})"
   ]
  },
  {
   "cell_type": "code",
   "execution_count": 87,
   "metadata": {},
   "outputs": [
    {
     "data": {
      "text/html": [
       "<div>\n",
       "<style scoped>\n",
       "    .dataframe tbody tr th:only-of-type {\n",
       "        vertical-align: middle;\n",
       "    }\n",
       "\n",
       "    .dataframe tbody tr th {\n",
       "        vertical-align: top;\n",
       "    }\n",
       "\n",
       "    .dataframe thead th {\n",
       "        text-align: right;\n",
       "    }\n",
       "</style>\n",
       "<table border=\"1\" class=\"dataframe\">\n",
       "  <thead>\n",
       "    <tr style=\"text-align: right;\">\n",
       "      <th></th>\n",
       "      <th>&lt;1</th>\n",
       "      <th>1-4</th>\n",
       "      <th>5-9</th>\n",
       "      <th>10-14</th>\n",
       "      <th>15-19</th>\n",
       "      <th>20-29</th>\n",
       "      <th>30+</th>\n",
       "    </tr>\n",
       "    <tr>\n",
       "      <th>age of contact</th>\n",
       "      <th></th>\n",
       "      <th></th>\n",
       "      <th></th>\n",
       "      <th></th>\n",
       "      <th></th>\n",
       "      <th></th>\n",
       "      <th></th>\n",
       "    </tr>\n",
       "  </thead>\n",
       "  <tbody>\n",
       "    <tr>\n",
       "      <th>&lt;1</th>\n",
       "      <td>1.49</td>\n",
       "      <td>1.49</td>\n",
       "      <td>0.59</td>\n",
       "      <td>0.25</td>\n",
       "      <td>0.18</td>\n",
       "      <td>0.515</td>\n",
       "      <td>0.307812</td>\n",
       "    </tr>\n",
       "    <tr>\n",
       "      <th>1-4</th>\n",
       "      <td>1.49</td>\n",
       "      <td>1.49</td>\n",
       "      <td>0.59</td>\n",
       "      <td>0.25</td>\n",
       "      <td>0.18</td>\n",
       "      <td>0.515</td>\n",
       "      <td>0.307812</td>\n",
       "    </tr>\n",
       "    <tr>\n",
       "      <th>5-9</th>\n",
       "      <td>0.74</td>\n",
       "      <td>0.74</td>\n",
       "      <td>3.82</td>\n",
       "      <td>0.53</td>\n",
       "      <td>0.44</td>\n",
       "      <td>0.395</td>\n",
       "      <td>0.410445</td>\n",
       "    </tr>\n",
       "    <tr>\n",
       "      <th>10-14</th>\n",
       "      <td>0.36</td>\n",
       "      <td>0.36</td>\n",
       "      <td>0.73</td>\n",
       "      <td>3.19</td>\n",
       "      <td>0.79</td>\n",
       "      <td>0.155</td>\n",
       "      <td>0.317936</td>\n",
       "    </tr>\n",
       "    <tr>\n",
       "      <th>15-19</th>\n",
       "      <td>0.26</td>\n",
       "      <td>0.26</td>\n",
       "      <td>0.22</td>\n",
       "      <td>0.52</td>\n",
       "      <td>3.10</td>\n",
       "      <td>0.485</td>\n",
       "      <td>0.288230</td>\n",
       "    </tr>\n",
       "    <tr>\n",
       "      <th>20-29</th>\n",
       "      <td>0.92</td>\n",
       "      <td>0.92</td>\n",
       "      <td>0.56</td>\n",
       "      <td>0.20</td>\n",
       "      <td>0.58</td>\n",
       "      <td>1.515</td>\n",
       "      <td>0.443601</td>\n",
       "    </tr>\n",
       "    <tr>\n",
       "      <th>30+</th>\n",
       "      <td>2.94</td>\n",
       "      <td>2.94</td>\n",
       "      <td>2.84</td>\n",
       "      <td>2.21</td>\n",
       "      <td>1.86</td>\n",
       "      <td>1.975</td>\n",
       "      <td>2.138009</td>\n",
       "    </tr>\n",
       "  </tbody>\n",
       "</table>\n",
       "</div>"
      ],
      "text/plain": [
       "                  <1   1-4   5-9  10-14  15-19  20-29       30+\n",
       "age of contact                                                 \n",
       "<1              1.49  1.49  0.59   0.25   0.18  0.515  0.307812\n",
       "1-4             1.49  1.49  0.59   0.25   0.18  0.515  0.307812\n",
       "5-9             0.74  0.74  3.82   0.53   0.44  0.395  0.410445\n",
       "10-14           0.36  0.36  0.73   3.19   0.79  0.155  0.317936\n",
       "15-19           0.26  0.26  0.22   0.52   3.10  0.485  0.288230\n",
       "20-29           0.92  0.92  0.56   0.20   0.58  1.515  0.443601\n",
       "30+             2.94  2.94  2.84   2.21   1.86  1.975  2.138009"
      ]
     },
     "execution_count": 87,
     "metadata": {},
     "output_type": "execute_result"
    }
   ],
   "source": [
    "Poly_7_new.reindex([\"<1\", \"1-4\", \"5-9\", \"10-14\", \"15-19\", \"20-29\", \"30+\"])"
   ]
  },
  {
   "cell_type": "code",
   "execution_count": 140,
   "metadata": {},
   "outputs": [
    {
     "data": {
      "text/html": [
       "<div>\n",
       "<style scoped>\n",
       "    .dataframe tbody tr th:only-of-type {\n",
       "        vertical-align: middle;\n",
       "    }\n",
       "\n",
       "    .dataframe tbody tr th {\n",
       "        vertical-align: top;\n",
       "    }\n",
       "\n",
       "    .dataframe thead th {\n",
       "        text-align: right;\n",
       "    }\n",
       "</style>\n",
       "<table border=\"1\" class=\"dataframe\">\n",
       "  <thead>\n",
       "    <tr style=\"text-align: right;\">\n",
       "      <th></th>\n",
       "      <th>&lt;1</th>\n",
       "      <th>1-4</th>\n",
       "      <th>5-9</th>\n",
       "      <th>10-14</th>\n",
       "      <th>15-19</th>\n",
       "      <th>20-29</th>\n",
       "      <th>30+</th>\n",
       "    </tr>\n",
       "    <tr>\n",
       "      <th>age of contact</th>\n",
       "      <th></th>\n",
       "      <th></th>\n",
       "      <th></th>\n",
       "      <th></th>\n",
       "      <th></th>\n",
       "      <th></th>\n",
       "      <th></th>\n",
       "    </tr>\n",
       "  </thead>\n",
       "  <tbody>\n",
       "    <tr>\n",
       "      <th>&lt;1</th>\n",
       "      <td>1.49</td>\n",
       "      <td>1.49</td>\n",
       "      <td>0.59</td>\n",
       "      <td>0.25</td>\n",
       "      <td>0.18</td>\n",
       "      <td>0.515</td>\n",
       "      <td>0.301111</td>\n",
       "    </tr>\n",
       "    <tr>\n",
       "      <th>1-4</th>\n",
       "      <td>1.49</td>\n",
       "      <td>1.49</td>\n",
       "      <td>0.59</td>\n",
       "      <td>0.25</td>\n",
       "      <td>0.18</td>\n",
       "      <td>0.515</td>\n",
       "      <td>0.301111</td>\n",
       "    </tr>\n",
       "    <tr>\n",
       "      <th>5-9</th>\n",
       "      <td>0.74</td>\n",
       "      <td>0.74</td>\n",
       "      <td>3.82</td>\n",
       "      <td>0.53</td>\n",
       "      <td>0.44</td>\n",
       "      <td>0.395</td>\n",
       "      <td>0.402222</td>\n",
       "    </tr>\n",
       "    <tr>\n",
       "      <th>10-14</th>\n",
       "      <td>0.36</td>\n",
       "      <td>0.36</td>\n",
       "      <td>0.73</td>\n",
       "      <td>3.19</td>\n",
       "      <td>0.79</td>\n",
       "      <td>0.155</td>\n",
       "      <td>0.308889</td>\n",
       "    </tr>\n",
       "    <tr>\n",
       "      <th>15-19</th>\n",
       "      <td>0.26</td>\n",
       "      <td>0.26</td>\n",
       "      <td>0.22</td>\n",
       "      <td>0.52</td>\n",
       "      <td>3.10</td>\n",
       "      <td>0.485</td>\n",
       "      <td>0.285556</td>\n",
       "    </tr>\n",
       "    <tr>\n",
       "      <th>20-29</th>\n",
       "      <td>0.92</td>\n",
       "      <td>0.92</td>\n",
       "      <td>0.56</td>\n",
       "      <td>0.20</td>\n",
       "      <td>0.58</td>\n",
       "      <td>1.515</td>\n",
       "      <td>0.417778</td>\n",
       "    </tr>\n",
       "    <tr>\n",
       "      <th>30+</th>\n",
       "      <td>2.94</td>\n",
       "      <td>2.94</td>\n",
       "      <td>2.84</td>\n",
       "      <td>2.21</td>\n",
       "      <td>1.86</td>\n",
       "      <td>1.975</td>\n",
       "      <td>2.127778</td>\n",
       "    </tr>\n",
       "  </tbody>\n",
       "</table>\n",
       "</div>"
      ],
      "text/plain": [
       "                  <1   1-4   5-9  10-14  15-19  20-29       30+\n",
       "age of contact                                                 \n",
       "<1              1.49  1.49  0.59   0.25   0.18  0.515  0.301111\n",
       "1-4             1.49  1.49  0.59   0.25   0.18  0.515  0.301111\n",
       "5-9             0.74  0.74  3.82   0.53   0.44  0.395  0.402222\n",
       "10-14           0.36  0.36  0.73   3.19   0.79  0.155  0.308889\n",
       "15-19           0.26  0.26  0.22   0.52   3.10  0.485  0.285556\n",
       "20-29           0.92  0.92  0.56   0.20   0.58  1.515  0.417778\n",
       "30+             2.94  2.94  2.84   2.21   1.86  1.975  2.127778"
      ]
     },
     "execution_count": 140,
     "metadata": {},
     "output_type": "execute_result"
    }
   ],
   "source": [
    "#### Don't run this cell please\n",
    "#### The origin calculation without weighted average"
   ]
  },
  {
   "cell_type": "code",
   "execution_count": 98,
   "metadata": {},
   "outputs": [],
   "source": [
    "Poly_7_new.to_csv(r'Polymod_weighted_average_30+_column.csv')"
   ]
  },
  {
   "cell_type": "code",
   "execution_count": null,
   "metadata": {},
   "outputs": [],
   "source": []
  }
 ],
 "metadata": {
  "kernelspec": {
   "display_name": "Python 3",
   "language": "python",
   "name": "python3"
  },
  "language_info": {
   "codemirror_mode": {
    "name": "ipython",
    "version": 3
   },
   "file_extension": ".py",
   "mimetype": "text/x-python",
   "name": "python",
   "nbconvert_exporter": "python",
   "pygments_lexer": "ipython3",
   "version": "3.7.3"
  }
 },
 "nbformat": 4,
 "nbformat_minor": 4
}
